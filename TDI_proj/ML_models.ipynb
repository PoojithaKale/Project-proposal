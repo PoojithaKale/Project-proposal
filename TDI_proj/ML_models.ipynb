{
 "cells": [
  {
   "cell_type": "markdown",
   "metadata": {},
   "source": [
    "# Project Objective:"
   ]
  },
  {
   "cell_type": "markdown",
   "metadata": {},
   "source": [
    "Building a machine learning model to help governments plan investements in renewable energy to reach the 100% access to electricity goal by 2030. "
   ]
  },
  {
   "cell_type": "markdown",
   "metadata": {},
   "source": [
    "# Data"
   ]
  },
  {
   "cell_type": "markdown",
   "metadata": {},
   "source": [
    "Electricity is a key pillar to human well-being and economic development. However, even today a certain percentage of the world's population does not have access to electricity.\n",
    "\n",
    "On the other hand, a recent report by the United Nations claims that at the current rate of green house gas emissions, the temperature will rise by 2.7F leading to worsening fodd shortages. wild fires and mass death of coral reefs as soon as 2040.\n",
    "\n",
    "To keep up with the growing needs for accessible electricity as well as to present the long term effects of global warming, energy systems must rethink their approach to renewable energy generation"
   ]
  },
  {
   "cell_type": "markdown",
   "metadata": {},
   "source": [
    "The data was obtained from:\n",
    "1. energy data : https://www.bp.com/en/global/corporate/energy-economics/statistical-review-of-world-energy.html\n",
    "\n",
    "2. population data, Access to electricity : https://data.worldbank.org/\n",
    "\n",
    "3. Investment data: http://resourceirena.irena.org/gateway/dashboard/"
   ]
  },
  {
   "cell_type": "markdown",
   "metadata": {},
   "source": [
    "Please visit Project_data_clean1.ipynb, Project_data_clean2.ipynb for original data.\n",
    "Also visit population_forecasting.ipynb, investment_forecasting.ipynb, NRE_forecast.ipynb for forcasting models used in this project"
   ]
  },
  {
   "cell_type": "code",
   "execution_count": 356,
   "metadata": {},
   "outputs": [],
   "source": [
    "import pandas as pd # import and manage datasets\n",
    "import numpy as np # mathematic library\n",
    "import matplotlib.pyplot as plt"
   ]
  },
  {
   "cell_type": "code",
   "execution_count": 357,
   "metadata": {},
   "outputs": [],
   "source": [
    "India_energy = pd.read_excel(\"cent_elec_1993-2017.xlsx\")\n",
    "India_energy = India_energy.set_index('Year')"
   ]
  },
  {
   "cell_type": "code",
   "execution_count": 358,
   "metadata": {},
   "outputs": [],
   "source": [
    "pop_growth = pd.read_excel(\"population_growth_forecast_1960-2030_India.xlsx\")\n",
    "pop_growth = pop_growth.set_index('Year')"
   ]
  },
  {
   "cell_type": "code",
   "execution_count": 359,
   "metadata": {},
   "outputs": [],
   "source": [
    "Investment_forcast_India = pd.read_excel(\"Investment_per_tech_India.xlsx\")"
   ]
  },
  {
   "cell_type": "code",
   "execution_count": 360,
   "metadata": {},
   "outputs": [],
   "source": [
    "India_RE_gen = pd.read_excel('India_RE_profile_1990-2018.xlsx')"
   ]
  },
  {
   "cell_type": "code",
   "execution_count": 361,
   "metadata": {},
   "outputs": [],
   "source": [
    "India_invest = pd.read_excel('investment_growth_forecast_2004-2030_India.xlsx')"
   ]
  },
  {
   "cell_type": "code",
   "execution_count": 362,
   "metadata": {},
   "outputs": [],
   "source": [
    "NRE_India_pred = pd.read_excel('NRE_India_Forecast.xlsx')"
   ]
  },
  {
   "cell_type": "markdown",
   "metadata": {},
   "source": [
    "# Predict the future needs of electricity"
   ]
  },
  {
   "cell_type": "markdown",
   "metadata": {},
   "source": [
    "Here we are building a machine learning model which takes into account time and population into account which predicting the energy needs of the future for India"
   ]
  },
  {
   "cell_type": "code",
   "execution_count": 363,
   "metadata": {},
   "outputs": [],
   "source": [
    "forcast_X1 = pd.DataFrame(list(range(2017,2031)), columns = ['Year'], index = list(range(24,38)))"
   ]
  },
  {
   "cell_type": "code",
   "execution_count": 364,
   "metadata": {},
   "outputs": [],
   "source": [
    "forcast_X1['Population'] = list(pop_growth['pop_pred'][57:])"
   ]
  },
  {
   "cell_type": "code",
   "execution_count": 365,
   "metadata": {},
   "outputs": [],
   "source": [
    "# input is year,populatiion, output is cent_access\n",
    "X1 = pd.DataFrame(list(range(1993,2018)), columns = ['Year'])\n",
    "X1['Population'] = list(India_energy['Population'])\n",
    "Y1 = India_energy['cent_access']"
   ]
  },
  {
   "cell_type": "code",
   "execution_count": 366,
   "metadata": {},
   "outputs": [],
   "source": [
    "X1_train = X1[:20]\n",
    "X1_test = X1[20:]\n",
    "Y1_train = Y1[:20]\n",
    "Y1_test = Y1[20:]"
   ]
  },
  {
   "cell_type": "code",
   "execution_count": 367,
   "metadata": {},
   "outputs": [
    {
     "name": "stderr",
     "output_type": "stream",
     "text": [
      "C:\\Users\\pooji\\Anaconda3\\lib\\site-packages\\sklearn\\linear_model\\ridge.py:125: LinAlgWarning: scipy.linalg.solve\n",
      "Ill-conditioned matrix detected. Result is not guaranteed to be accurate.\n",
      "Reciprocal condition number1.219448e-17\n",
      "  overwrite_a=True).T\n"
     ]
    },
    {
     "data": {
      "text/plain": [
       "Ridge(alpha=2.51, copy_X=True, fit_intercept=True, max_iter=None,\n",
       "   normalize=False, random_state=None, solver='auto', tol=0.001)"
      ]
     },
     "execution_count": 367,
     "metadata": {},
     "output_type": "execute_result"
    }
   ],
   "source": [
    "from sklearn.linear_model import Ridge\n",
    "from sklearn import metrics\n",
    "\n",
    "elec_pred = Ridge(alpha = 2.51)\n",
    "elec_pred.fit(X1_train,Y1_train)"
   ]
  },
  {
   "cell_type": "code",
   "execution_count": 368,
   "metadata": {},
   "outputs": [
    {
     "name": "stdout",
     "output_type": "stream",
     "text": [
      "R^2: 0.6100791008028612\n"
     ]
    }
   ],
   "source": [
    "y1_pred = elec_pred.predict(X1_test)\n",
    "print(\"R^2:\", metrics.r2_score(y1_pred, Y1_test))"
   ]
  },
  {
   "cell_type": "code",
   "execution_count": 369,
   "metadata": {},
   "outputs": [],
   "source": [
    "y2_pred = elec_pred.predict(forcast_X1)"
   ]
  },
  {
   "cell_type": "code",
   "execution_count": 370,
   "metadata": {},
   "outputs": [
    {
     "data": {
      "image/png": "[encoded data removed]",
      "text/plain": [
       "<Figure size 432x288 with 1 Axes>"
      ]
     },
     "metadata": {
      "needs_background": "light"
     },
     "output_type": "display_data"
    }
   ],
   "source": [
    "plt.plot(X1['Year'], Y1, label='training data')\n",
    "plt.plot(X1_test['Year'], y1_pred, label='test_predict data')\n",
    "plt.plot(forcast_X1['Year'], y2_pred, '--', label='model prediction')\n",
    "plt.legend()\n",
    "plt.title('Energy demands')\n",
    "plt.show()"
   ]
  },
  {
   "cell_type": "markdown",
   "metadata": {},
   "source": [
    "# Predict the growth rate of Renewable energy"
   ]
  },
  {
   "cell_type": "code",
   "execution_count": 372,
   "metadata": {},
   "outputs": [],
   "source": [
    "# input is total_investment,investment_per_tech,population,year -> output is growth in RE generation\n",
    "Xt = pd.DataFrame(list(range(2004,2018)), columns = ['Year'])\n",
    "Xt['T_invest'] = list(India_invest['T_invest_pred'][:14])\n",
    "Xt['Population'] = list(India_energy['Population'])[11:]\n",
    "Yt = list(India_RE_gen['RE Generation total TWh'])[14:-1]"
   ]
  },
  {
   "cell_type": "code",
   "execution_count": 373,
   "metadata": {},
   "outputs": [
    {
     "data": {
      "image/png": "[encoded data removed]",
      "text/plain": [
       "<Figure size 432x288 with 1 Axes>"
      ]
     },
     "metadata": {
      "needs_background": "light"
     },
     "output_type": "display_data"
    }
   ],
   "source": [
    "plt.plot(Xt['Year'], Yt)\n",
    "plt.show()"
   ]
  },
  {
   "cell_type": "code",
   "execution_count": 374,
   "metadata": {},
   "outputs": [],
   "source": [
    "Xt_train = Xt[:10]\n",
    "Xt_test = Xt[10:]\n",
    "Yt_train = Yt[:10]\n",
    "Yt_test = Yt[10:]"
   ]
  },
  {
   "cell_type": "code",
   "execution_count": 375,
   "metadata": {},
   "outputs": [],
   "source": [
    "forcast_Xt = pd.DataFrame(list(range(2017,2031)), columns = ['Year'], index = list(range(24,38)))\n",
    "forcast_Xt['T_invest'] = list(India_invest['T_invest_pred'])[13:]\n",
    "forcast_Xt['Population'] = list(pop_growth['pop_pred'][57:])"
   ]
  },
  {
   "cell_type": "code",
   "execution_count": 376,
   "metadata": {},
   "outputs": [
    {
     "data": {
      "text/plain": [
       "LinearRegression(copy_X=True, fit_intercept=True, n_jobs=None,\n",
       "         normalize=False)"
      ]
     },
     "execution_count": 376,
     "metadata": {},
     "output_type": "execute_result"
    }
   ],
   "source": [
    "from sklearn.linear_model import LinearRegression\n",
    "from sklearn import metrics\n",
    "# lasso 0.001 --> 0.59\n",
    "RE_growth = LinearRegression()\n",
    "RE_growth.fit(Xt_train,Yt_train)"
   ]
  },
  {
   "cell_type": "code",
   "execution_count": 377,
   "metadata": {},
   "outputs": [
    {
     "name": "stdout",
     "output_type": "stream",
     "text": [
      "R^2: 0.18604012398834802\n"
     ]
    }
   ],
   "source": [
    "yt1_pred = RE_growth.predict(Xt_test)\n",
    "print(\"R^2:\", metrics.r2_score(yt1_pred, Yt_test))"
   ]
  },
  {
   "cell_type": "code",
   "execution_count": 378,
   "metadata": {},
   "outputs": [],
   "source": [
    "yt2_pred = RE_growth.predict(forcast_Xt)"
   ]
  },
  {
   "cell_type": "code",
   "execution_count": 379,
   "metadata": {},
   "outputs": [
    {
     "data": {
      "image/png": "[encoded data removed]",
      "text/plain": [
       "<Figure size 432x288 with 1 Axes>"
      ]
     },
     "metadata": {
      "needs_background": "light"
     },
     "output_type": "display_data"
    }
   ],
   "source": [
    "plt.plot(Xt['Year'], Yt, label='training data')\n",
    "plt.plot(Xt_test['Year'], yt1_pred, label='test_predict data')\n",
    "plt.plot(forcast_Xt['Year'], yt2_pred, '--', label='model prediction')\n",
    "plt.legend()\n",
    "plt.title('Growth of Renewable Energy')\n",
    "plt.show()"
   ]
  },
  {
   "cell_type": "markdown",
   "metadata": {},
   "source": [
    "### Growth rate of solar energy:"
   ]
  },
  {
   "cell_type": "code",
   "execution_count": 380,
   "metadata": {},
   "outputs": [],
   "source": [
    "# input is total_investment,investment_per_tech,population,year -> output is growth in RE generation\n",
    "X2 = pd.DataFrame(list(range(2004,2018)), columns = ['Year'])\n",
    "X2['T_invest'] = list(India_invest['T_invest_pred'])[:14]\n",
    "X2['Solar_invest'] = list(India_invest['solar_invest_pred'])[:14]\n",
    "X2['Population'] = list(India_energy['Population'])[11:]\n",
    "Y2 = np.log(list(India_RE_gen['Solar Generation TWh'])[14:-1])"
   ]
  },
  {
   "cell_type": "code",
   "execution_count": 381,
   "metadata": {},
   "outputs": [
    {
     "data": {
      "text/plain": [
       "[<matplotlib.lines.Line2D at 0x190f77f0b70>]"
      ]
     },
     "execution_count": 381,
     "metadata": {},
     "output_type": "execute_result"
    },
    {
     "data": {
      "image/png": "[encoded data removed]",
      "text/plain": [
       "<Figure size 432x288 with 1 Axes>"
      ]
     },
     "metadata": {
      "needs_background": "light"
     },
     "output_type": "display_data"
    }
   ],
   "source": [
    "k = list(India_RE_gen['Solar Generation TWh'])[14:-1]\n",
    "plt.plot(X2['Year'], k)"
   ]
  },
  {
   "cell_type": "code",
   "execution_count": 382,
   "metadata": {},
   "outputs": [
    {
     "data": {
      "text/plain": [
       "[<matplotlib.lines.Line2D at 0x190f793af60>]"
      ]
     },
     "execution_count": 382,
     "metadata": {},
     "output_type": "execute_result"
    },
    {
     "data": {
      "image/png": "[encoded data removed]",
      "text/plain": [
       "<Figure size 432x288 with 1 Axes>"
      ]
     },
     "metadata": {
      "needs_background": "light"
     },
     "output_type": "display_data"
    }
   ],
   "source": [
    "plt.plot(X2['Year'], Y2)"
   ]
  },
  {
   "cell_type": "code",
   "execution_count": 383,
   "metadata": {},
   "outputs": [],
   "source": [
    "X2_train = X2[:10]\n",
    "X2_test = X2[10:]\n",
    "Y2_train = Y2[:10]\n",
    "Y2_test = Y2[10:]"
   ]
  },
  {
   "cell_type": "code",
   "execution_count": 384,
   "metadata": {},
   "outputs": [],
   "source": [
    "forcast_X2 = pd.DataFrame(list(range(2017,2031)), columns = ['Year'], index = list(range(24,38)))\n",
    "forcast_X2['T_invest'] = list(India_invest['T_invest_pred'])[13:]\n",
    "forcast_X2['Solar_invest'] = list(India_invest['solar_invest_pred'])[13:]\n",
    "forcast_X2['Population'] = list(pop_growth['pop_pred'][57:])"
   ]
  },
  {
   "cell_type": "code",
   "execution_count": 385,
   "metadata": {},
   "outputs": [
    {
     "data": {
      "text/plain": [
       "Lasso(alpha=1000, copy_X=True, fit_intercept=True, max_iter=1000,\n",
       "   normalize=False, positive=False, precompute=False, random_state=None,\n",
       "   selection='cyclic', tol=0.0001, warm_start=False)"
      ]
     },
     "execution_count": 385,
     "metadata": {},
     "output_type": "execute_result"
    }
   ],
   "source": [
    "from sklearn.linear_model import Lasso\n",
    "from sklearn import metrics\n",
    "\n",
    "elec_pred1 = Lasso(alpha = 1000)\n",
    "elec_pred1.fit(X2_train,Y2_train)"
   ]
  },
  {
   "cell_type": "code",
   "execution_count": 386,
   "metadata": {},
   "outputs": [
    {
     "name": "stdout",
     "output_type": "stream",
     "text": [
      "R^2: 0.29068834079838735\n"
     ]
    }
   ],
   "source": [
    "y3_pred = elec_pred1.predict(X2_test)\n",
    "print(\"R^2:\", metrics.r2_score(y3_pred, Y2_test))"
   ]
  },
  {
   "cell_type": "code",
   "execution_count": 387,
   "metadata": {},
   "outputs": [],
   "source": [
    "y4_pred = elec_pred1.predict(forcast_X2)"
   ]
  },
  {
   "cell_type": "code",
   "execution_count": 388,
   "metadata": {},
   "outputs": [
    {
     "data": {
      "image/png": "[encoded data removed]",
      "text/plain": [
       "<Figure size 432x288 with 1 Axes>"
      ]
     },
     "metadata": {
      "needs_background": "light"
     },
     "output_type": "display_data"
    }
   ],
   "source": [
    "plt.plot(X2['Year'], Y2, label='training data')\n",
    "plt.plot(X2_test['Year'], y3_pred, label='test_predict data')\n",
    "plt.plot(forcast_X2['Year'], y4_pred, '--', label='model prediction')\n",
    "plt.legend()\n",
    "plt.title('Logarithmic growth of Solar Energy')\n",
    "plt.show()"
   ]
  },
  {
   "cell_type": "markdown",
   "metadata": {},
   "source": [
    "# Reaching the goal:"
   ]
  },
  {
   "cell_type": "code",
   "execution_count": 389,
   "metadata": {},
   "outputs": [],
   "source": [
    "cent_access = list(India_energy['cent_access'][11:])\n",
    "for i in range(1,len(y2_pred)):\n",
    "    cent_access.append(y2_pred[i])"
   ]
  },
  {
   "cell_type": "code",
   "execution_count": 390,
   "metadata": {},
   "outputs": [],
   "source": [
    "x1 = cent_access"
   ]
  },
  {
   "cell_type": "code",
   "execution_count": 391,
   "metadata": {},
   "outputs": [],
   "source": [
    "nre_energy = list(NRE_India_pred['NRE_pred'][11:])"
   ]
  },
  {
   "cell_type": "code",
   "execution_count": 392,
   "metadata": {},
   "outputs": [],
   "source": [
    "x2 = nre_energy"
   ]
  },
  {
   "cell_type": "code",
   "execution_count": 393,
   "metadata": {},
   "outputs": [],
   "source": [
    "RE_pred_f = list(India_RE_gen['RE Generation total TWh'])[14:]\n",
    "for i in range(2,len(yt2_pred)):\n",
    "    RE_pred_f.append(yt2_pred[i])"
   ]
  },
  {
   "cell_type": "code",
   "execution_count": 394,
   "metadata": {},
   "outputs": [],
   "source": [
    "x3 = RE_pred_f"
   ]
  },
  {
   "cell_type": "code",
   "execution_count": 395,
   "metadata": {},
   "outputs": [],
   "source": [
    "total = []\n",
    "\n",
    "for i in range(len(RE_pred_f)):\n",
    "    x3_mtoe = 85984.5*x3[i]/1000000\n",
    "    total.append(x3_mtoe + x2[i])"
   ]
  },
  {
   "cell_type": "code",
   "execution_count": 396,
   "metadata": {},
   "outputs": [],
   "source": [
    "y = list(range(2004,2031))"
   ]
  },
  {
   "cell_type": "code",
   "execution_count": 397,
   "metadata": {},
   "outputs": [
    {
     "data": {
      "image/png": "[encoded data removed]",
      "text/plain": [
       "<Figure size 432x288 with 1 Axes>"
      ]
     },
     "metadata": {
      "needs_background": "light"
     },
     "output_type": "display_data"
    }
   ],
   "source": [
    "plt.plot(y, x1, label='100% energy value')\n",
    "plt.plot(y,total , label='Predicted value')\n",
    "plt.legend()\n",
    "plt.show()"
   ]
  },
  {
   "cell_type": "markdown",
   "metadata": {},
   "source": [
    "This concludes that India will reach 100% access to electricity by 2025 if the investment in renewable energy will follow the trend used in this model"
   ]
  }
 ],
 "metadata": {
  "kernelspec": {
   "display_name": "Python 3",
   "language": "python",
   "name": "python3"
  },
  "language_info": {
   "codemirror_mode": {
    "name": "ipython",
    "version": 3
   },
   "file_extension": ".py",
   "mimetype": "text/x-python",
   "name": "python",
   "nbconvert_exporter": "python",
   "pygments_lexer": "ipython3",
   "version": "3.7.1"
  }
 },
 "nbformat": 4,
 "nbformat_minor": 2
}
