{
 "cells": [
  {
   "cell_type": "code",
   "execution_count": 1,
   "metadata": {},
   "outputs": [],
   "source": [
    "import pandas as pd # import and manage datasets\n",
    "import numpy as np # mathematic library\n",
    "from statsmodels.graphics.tsaplots import plot_acf, plot_pacf\n",
    "import matplotlib.pyplot as plt\n",
    "from matplotlib import pyplot\n",
    "from statsmodels.tsa.arima_model import ARIMA"
   ]
  },
  {
   "cell_type": "code",
   "execution_count": 2,
   "metadata": {},
   "outputs": [],
   "source": [
    "# forecast for investment"
   ]
  },
  {
   "cell_type": "code",
   "execution_count": 3,
   "metadata": {},
   "outputs": [],
   "source": [
    "Investment_forcast_India = pd.read_excel(\"Investment_per_tech_India.xlsx\")"
   ]
  },
  {
   "cell_type": "code",
   "execution_count": 4,
   "metadata": {},
   "outputs": [
    {
     "data": {
      "text/html": [
       "<div>\n",
       "<style scoped>\n",
       "    .dataframe tbody tr th:only-of-type {\n",
       "        vertical-align: middle;\n",
       "    }\n",
       "\n",
       "    .dataframe tbody tr th {\n",
       "        vertical-align: top;\n",
       "    }\n",
       "\n",
       "    .dataframe thead th {\n",
       "        text-align: right;\n",
       "    }\n",
       "</style>\n",
       "<table border=\"1\" class=\"dataframe\">\n",
       "  <thead>\n",
       "    <tr style=\"text-align: right;\">\n",
       "      <th></th>\n",
       "      <th>Year</th>\n",
       "      <th>Code</th>\n",
       "      <th>Investment in Renewables by Region</th>\n",
       "      <th>investment_solar</th>\n",
       "      <th>investment_wind</th>\n",
       "      <th>investment_marine</th>\n",
       "      <th>investment_geo</th>\n",
       "      <th>investment_hydro</th>\n",
       "      <th>investment_biofuel</th>\n",
       "      <th>investment_biomass</th>\n",
       "    </tr>\n",
       "  </thead>\n",
       "  <tbody>\n",
       "    <tr>\n",
       "      <th>0</th>\n",
       "      <td>2004</td>\n",
       "      <td>IND</td>\n",
       "      <td>2710000000</td>\n",
       "      <td>6.457872e+08</td>\n",
       "      <td>1.130128e+09</td>\n",
       "      <td>0.000000e+00</td>\n",
       "      <td>6.919149e+07</td>\n",
       "      <td>1.556809e+08</td>\n",
       "      <td>2.306383e+08</td>\n",
       "      <td>4.785745e+08</td>\n",
       "    </tr>\n",
       "    <tr>\n",
       "      <th>1</th>\n",
       "      <td>2005</td>\n",
       "      <td>IND</td>\n",
       "      <td>3030000000</td>\n",
       "      <td>6.617720e+08</td>\n",
       "      <td>1.186195e+09</td>\n",
       "      <td>4.162088e+06</td>\n",
       "      <td>4.994505e+07</td>\n",
       "      <td>3.079945e+08</td>\n",
       "      <td>4.120467e+08</td>\n",
       "      <td>4.078846e+08</td>\n",
       "    </tr>\n",
       "    <tr>\n",
       "      <th>2</th>\n",
       "      <td>2006</td>\n",
       "      <td>IND</td>\n",
       "      <td>4860000000</td>\n",
       "      <td>9.444011e+08</td>\n",
       "      <td>1.711996e+09</td>\n",
       "      <td>3.449867e+07</td>\n",
       "      <td>6.037267e+07</td>\n",
       "      <td>3.234250e+08</td>\n",
       "      <td>1.233327e+09</td>\n",
       "      <td>5.519787e+08</td>\n",
       "    </tr>\n",
       "    <tr>\n",
       "      <th>3</th>\n",
       "      <td>2007</td>\n",
       "      <td>IND</td>\n",
       "      <td>6690000000</td>\n",
       "      <td>1.633653e+09</td>\n",
       "      <td>2.565970e+09</td>\n",
       "      <td>3.359699e+07</td>\n",
       "      <td>7.139360e+07</td>\n",
       "      <td>2.687759e+08</td>\n",
       "      <td>1.150697e+09</td>\n",
       "      <td>9.659134e+08</td>\n",
       "    </tr>\n",
       "    <tr>\n",
       "      <th>4</th>\n",
       "      <td>2008</td>\n",
       "      <td>IND</td>\n",
       "      <td>5610000000</td>\n",
       "      <td>1.894727e+09</td>\n",
       "      <td>2.312000e+09</td>\n",
       "      <td>6.181818e+06</td>\n",
       "      <td>5.254545e+07</td>\n",
       "      <td>2.349091e+08</td>\n",
       "      <td>5.687273e+08</td>\n",
       "      <td>5.409091e+08</td>\n",
       "    </tr>\n",
       "    <tr>\n",
       "      <th>5</th>\n",
       "      <td>2009</td>\n",
       "      <td>IND</td>\n",
       "      <td>4280000000</td>\n",
       "      <td>1.537149e+09</td>\n",
       "      <td>1.914231e+09</td>\n",
       "      <td>7.205387e+06</td>\n",
       "      <td>6.725028e+07</td>\n",
       "      <td>1.489113e+08</td>\n",
       "      <td>2.449832e+08</td>\n",
       "      <td>3.602694e+08</td>\n",
       "    </tr>\n",
       "    <tr>\n",
       "      <th>6</th>\n",
       "      <td>2010</td>\n",
       "      <td>IND</td>\n",
       "      <td>8840000000</td>\n",
       "      <td>3.761084e+09</td>\n",
       "      <td>3.688476e+09</td>\n",
       "      <td>7.260780e+06</td>\n",
       "      <td>1.052813e+08</td>\n",
       "      <td>2.940616e+08</td>\n",
       "      <td>3.811910e+08</td>\n",
       "      <td>6.026448e+08</td>\n",
       "    </tr>\n",
       "    <tr>\n",
       "      <th>7</th>\n",
       "      <td>2011</td>\n",
       "      <td>IND</td>\n",
       "      <td>12780000000</td>\n",
       "      <td>7.039908e+09</td>\n",
       "      <td>3.826728e+09</td>\n",
       "      <td>9.089616e+06</td>\n",
       "      <td>1.772475e+08</td>\n",
       "      <td>3.408606e+08</td>\n",
       "      <td>4.817496e+08</td>\n",
       "      <td>9.044168e+08</td>\n",
       "    </tr>\n",
       "    <tr>\n",
       "      <th>8</th>\n",
       "      <td>2012</td>\n",
       "      <td>IND</td>\n",
       "      <td>7800000000</td>\n",
       "      <td>4.293970e+09</td>\n",
       "      <td>2.577604e+09</td>\n",
       "      <td>9.162099e+06</td>\n",
       "      <td>4.886453e+07</td>\n",
       "      <td>1.954581e+08</td>\n",
       "      <td>2.198904e+08</td>\n",
       "      <td>4.550509e+08</td>\n",
       "    </tr>\n",
       "    <tr>\n",
       "      <th>9</th>\n",
       "      <td>2013</td>\n",
       "      <td>IND</td>\n",
       "      <td>6560000000</td>\n",
       "      <td>3.333174e+09</td>\n",
       "      <td>2.490785e+09</td>\n",
       "      <td>5.597270e+06</td>\n",
       "      <td>8.116041e+07</td>\n",
       "      <td>1.567235e+08</td>\n",
       "      <td>1.455290e+08</td>\n",
       "      <td>3.470307e+08</td>\n",
       "    </tr>\n",
       "    <tr>\n",
       "      <th>10</th>\n",
       "      <td>2014</td>\n",
       "      <td>IND</td>\n",
       "      <td>8300000000</td>\n",
       "      <td>4.294750e+09</td>\n",
       "      <td>3.238224e+09</td>\n",
       "      <td>8.953614e+06</td>\n",
       "      <td>8.655160e+07</td>\n",
       "      <td>1.910104e+08</td>\n",
       "      <td>1.581805e+08</td>\n",
       "      <td>3.223301e+08</td>\n",
       "    </tr>\n",
       "    <tr>\n",
       "      <th>11</th>\n",
       "      <td>2015</td>\n",
       "      <td>IND</td>\n",
       "      <td>10160000000</td>\n",
       "      <td>5.589465e+09</td>\n",
       "      <td>4.043166e+09</td>\n",
       "      <td>6.510734e+06</td>\n",
       "      <td>7.487344e+07</td>\n",
       "      <td>1.139378e+08</td>\n",
       "      <td>1.139378e+08</td>\n",
       "      <td>2.181096e+08</td>\n",
       "    </tr>\n",
       "  </tbody>\n",
       "</table>\n",
       "</div>"
      ],
      "text/plain": [
       "    Year Code  Investment in Renewables by Region  investment_solar  \\\n",
       "0   2004  IND                          2710000000      6.457872e+08   \n",
       "1   2005  IND                          3030000000      6.617720e+08   \n",
       "2   2006  IND                          4860000000      9.444011e+08   \n",
       "3   2007  IND                          6690000000      1.633653e+09   \n",
       "4   2008  IND                          5610000000      1.894727e+09   \n",
       "5   2009  IND                          4280000000      1.537149e+09   \n",
       "6   2010  IND                          8840000000      3.761084e+09   \n",
       "7   2011  IND                         12780000000      7.039908e+09   \n",
       "8   2012  IND                          7800000000      4.293970e+09   \n",
       "9   2013  IND                          6560000000      3.333174e+09   \n",
       "10  2014  IND                          8300000000      4.294750e+09   \n",
       "11  2015  IND                         10160000000      5.589465e+09   \n",
       "\n",
       "    investment_wind  investment_marine  investment_geo  investment_hydro  \\\n",
       "0      1.130128e+09       0.000000e+00    6.919149e+07      1.556809e+08   \n",
       "1      1.186195e+09       4.162088e+06    4.994505e+07      3.079945e+08   \n",
       "2      1.711996e+09       3.449867e+07    6.037267e+07      3.234250e+08   \n",
       "3      2.565970e+09       3.359699e+07    7.139360e+07      2.687759e+08   \n",
       "4      2.312000e+09       6.181818e+06    5.254545e+07      2.349091e+08   \n",
       "5      1.914231e+09       7.205387e+06    6.725028e+07      1.489113e+08   \n",
       "6      3.688476e+09       7.260780e+06    1.052813e+08      2.940616e+08   \n",
       "7      3.826728e+09       9.089616e+06    1.772475e+08      3.408606e+08   \n",
       "8      2.577604e+09       9.162099e+06    4.886453e+07      1.954581e+08   \n",
       "9      2.490785e+09       5.597270e+06    8.116041e+07      1.567235e+08   \n",
       "10     3.238224e+09       8.953614e+06    8.655160e+07      1.910104e+08   \n",
       "11     4.043166e+09       6.510734e+06    7.487344e+07      1.139378e+08   \n",
       "\n",
       "    investment_biofuel  investment_biomass  \n",
       "0         2.306383e+08        4.785745e+08  \n",
       "1         4.120467e+08        4.078846e+08  \n",
       "2         1.233327e+09        5.519787e+08  \n",
       "3         1.150697e+09        9.659134e+08  \n",
       "4         5.687273e+08        5.409091e+08  \n",
       "5         2.449832e+08        3.602694e+08  \n",
       "6         3.811910e+08        6.026448e+08  \n",
       "7         4.817496e+08        9.044168e+08  \n",
       "8         2.198904e+08        4.550509e+08  \n",
       "9         1.455290e+08        3.470307e+08  \n",
       "10        1.581805e+08        3.223301e+08  \n",
       "11        1.139378e+08        2.181096e+08  "
      ]
     },
     "execution_count": 4,
     "metadata": {},
     "output_type": "execute_result"
    }
   ],
   "source": [
    "Investment_forcast_India"
   ]
  },
  {
   "cell_type": "code",
   "execution_count": 5,
   "metadata": {},
   "outputs": [],
   "source": [
    "y = list(Investment_forcast_India['investment_solar'])\n",
    "x = list(Investment_forcast_India['Year'])"
   ]
  },
  {
   "cell_type": "code",
   "execution_count": 6,
   "metadata": {},
   "outputs": [
    {
     "data": {
      "text/plain": [
       "[<matplotlib.lines.Line2D at 0x179da784cf8>]"
      ]
     },
     "execution_count": 6,
     "metadata": {},
     "output_type": "execute_result"
    },
    {
     "data": {
      "image/png": "[encoded data removed]",
      "text/plain": [
       "<Figure size 432x288 with 1 Axes>"
      ]
     },
     "metadata": {
      "needs_background": "light"
     },
     "output_type": "display_data"
    }
   ],
   "source": [
    "pyplot.plot(x, y)  "
   ]
  },
  {
   "cell_type": "code",
   "execution_count": 7,
   "metadata": {},
   "outputs": [],
   "source": [
    "z1 = pd.DataFrame(x, columns = ['Year'])"
   ]
  },
  {
   "cell_type": "code",
   "execution_count": 8,
   "metadata": {},
   "outputs": [],
   "source": [
    "z1['investment_solar'] = y"
   ]
  },
  {
   "cell_type": "code",
   "execution_count": 9,
   "metadata": {},
   "outputs": [],
   "source": [
    "z1 = z1.set_index('Year')"
   ]
  },
  {
   "cell_type": "code",
   "execution_count": 10,
   "metadata": {},
   "outputs": [
    {
     "data": {
      "text/plain": [
       "12"
      ]
     },
     "execution_count": 10,
     "metadata": {},
     "output_type": "execute_result"
    }
   ],
   "source": [
    "len(z1)"
   ]
  },
  {
   "cell_type": "code",
   "execution_count": 27,
   "metadata": {},
   "outputs": [
    {
     "name": "stdout",
     "output_type": "stream",
     "text": [
      "predicted=3669688400.156828, expected=4294750089.000000\n",
      "predicted=4623261739.545933, expected=5589464915.000000\n",
      "R^2: -0.5799813532974167\n"
     ]
    },
    {
     "name": "stderr",
     "output_type": "stream",
     "text": [
      "C:\\Users\\pooji\\Anaconda3\\lib\\site-packages\\scipy\\signal\\signaltools.py:1341: FutureWarning: Using a non-tuple sequence for multidimensional indexing is deprecated; use `arr[tuple(seq)]` instead of `arr[seq]`. In the future this will be interpreted as an array index, `arr[np.array(seq)]`, which will result either in an error or a different result.\n",
      "  out_full[ind] += zi\n",
      "C:\\Users\\pooji\\Anaconda3\\lib\\site-packages\\scipy\\signal\\signaltools.py:1344: FutureWarning: Using a non-tuple sequence for multidimensional indexing is deprecated; use `arr[tuple(seq)]` instead of `arr[seq]`. In the future this will be interpreted as an array index, `arr[np.array(seq)]`, which will result either in an error or a different result.\n",
      "  out = out_full[ind]\n",
      "C:\\Users\\pooji\\Anaconda3\\lib\\site-packages\\scipy\\signal\\signaltools.py:1350: FutureWarning: Using a non-tuple sequence for multidimensional indexing is deprecated; use `arr[tuple(seq)]` instead of `arr[seq]`. In the future this will be interpreted as an array index, `arr[np.array(seq)]`, which will result either in an error or a different result.\n",
      "  zf = out_full[ind]\n"
     ]
    }
   ],
   "source": [
    "from sklearn import metrics\n",
    "\n",
    "X = z1.values\n",
    "X = [int(x) for x in X]\n",
    "train = X[:10]\n",
    "test = X[10:]\n",
    "history = [x for x in train]\n",
    "predictions = list()\n",
    "\n",
    "for t in range(len(test)):\n",
    "    model = ARIMA(history, order=(1,1,0))\n",
    "    model_fit = model.fit(disp=0)\n",
    "    output = model_fit.forecast()\n",
    "    yhat = output[0]\n",
    "    predictions.append(yhat)\n",
    "    obs = test[t]\n",
    "    history.append(obs)\n",
    "    print('predicted=%f, expected=%f' % (yhat, obs))\n",
    "print(\"R^2:\", metrics.r2_score(test, predictions))"
   ]
  },
  {
   "cell_type": "code",
   "execution_count": 28,
   "metadata": {},
   "outputs": [
    {
     "data": {
      "image/png": "[encoded data removed]",
      "text/plain": [
       "<Figure size 432x288 with 1 Axes>"
      ]
     },
     "metadata": {
      "needs_background": "light"
     },
     "output_type": "display_data"
    }
   ],
   "source": [
    "model_fit.plot_predict(dynamic=False)\n",
    "plt.show()"
   ]
  },
  {
   "cell_type": "code",
   "execution_count": 29,
   "metadata": {},
   "outputs": [
    {
     "name": "stderr",
     "output_type": "stream",
     "text": [
      "C:\\Users\\pooji\\Anaconda3\\lib\\site-packages\\scipy\\signal\\signaltools.py:1341: FutureWarning: Using a non-tuple sequence for multidimensional indexing is deprecated; use `arr[tuple(seq)]` instead of `arr[seq]`. In the future this will be interpreted as an array index, `arr[np.array(seq)]`, which will result either in an error or a different result.\n",
      "  out_full[ind] += zi\n",
      "C:\\Users\\pooji\\Anaconda3\\lib\\site-packages\\scipy\\signal\\signaltools.py:1344: FutureWarning: Using a non-tuple sequence for multidimensional indexing is deprecated; use `arr[tuple(seq)]` instead of `arr[seq]`. In the future this will be interpreted as an array index, `arr[np.array(seq)]`, which will result either in an error or a different result.\n",
      "  out = out_full[ind]\n",
      "C:\\Users\\pooji\\Anaconda3\\lib\\site-packages\\scipy\\signal\\signaltools.py:1350: FutureWarning: Using a non-tuple sequence for multidimensional indexing is deprecated; use `arr[tuple(seq)]` instead of `arr[seq]`. In the future this will be interpreted as an array index, `arr[np.array(seq)]`, which will result either in an error or a different result.\n",
      "  zf = out_full[ind]\n"
     ]
    },
    {
     "data": {
      "image/png": "[encoded data removed]",
      "text/plain": [
       "<Figure size 432x288 with 1 Axes>"
      ]
     },
     "metadata": {
      "needs_background": "light"
     },
     "output_type": "display_data"
    }
   ],
   "source": [
    "X = z1.values\n",
    "X = [int(x) for x in X]\n",
    "history = [int(x) for x in X]\n",
    "predictions = list(history)\n",
    "\n",
    "for t in range(12,27):\n",
    "    model = ARIMA(history, order=(3,2,0))\n",
    "    model_fit = model.fit()\n",
    "    output = model_fit.forecast()\n",
    "    yhat = int(output[0])\n",
    "    predictions.append(yhat)\n",
    "    history.append(yhat)\n",
    "# plot\n",
    "pyplot.plot(X)\n",
    "pyplot.plot(predictions, color='red', alpha=0.5)\n",
    "pyplot.show()"
   ]
  },
  {
   "cell_type": "code",
   "execution_count": 30,
   "metadata": {},
   "outputs": [],
   "source": [
    "df_investent_future = pd.DataFrame(predictions, columns = ['solar_invest_pred'])"
   ]
  },
  {
   "cell_type": "code",
   "execution_count": 31,
   "metadata": {},
   "outputs": [],
   "source": [
    "df_investent_future['year'] = list(range(2004,2031))"
   ]
  },
  {
   "cell_type": "code",
   "execution_count": 32,
   "metadata": {},
   "outputs": [],
   "source": [
    "df_investent_future = df_investent_future.set_index('year')"
   ]
  },
  {
   "cell_type": "code",
   "execution_count": 33,
   "metadata": {},
   "outputs": [],
   "source": [
    "y1 = list(Investment_forcast_India['investment_wind'])\n",
    "x1 = list(Investment_forcast_India['Year'])"
   ]
  },
  {
   "cell_type": "code",
   "execution_count": 34,
   "metadata": {},
   "outputs": [
    {
     "data": {
      "text/plain": [
       "[<matplotlib.lines.Line2D at 0x179dd08bef0>]"
      ]
     },
     "execution_count": 34,
     "metadata": {},
     "output_type": "execute_result"
    },
    {
     "data": {
      "image/png": "[encoded data removed]",
      "text/plain": [
       "<Figure size 432x288 with 1 Axes>"
      ]
     },
     "metadata": {
      "needs_background": "light"
     },
     "output_type": "display_data"
    }
   ],
   "source": [
    "pyplot.plot(x1, y1)  "
   ]
  },
  {
   "cell_type": "code",
   "execution_count": 35,
   "metadata": {},
   "outputs": [],
   "source": [
    "z2 = pd.DataFrame(x1, columns = ['Year'])"
   ]
  },
  {
   "cell_type": "code",
   "execution_count": 36,
   "metadata": {},
   "outputs": [],
   "source": [
    "z2['investment_wind'] = y1"
   ]
  },
  {
   "cell_type": "code",
   "execution_count": 37,
   "metadata": {},
   "outputs": [],
   "source": [
    "z2 = z2.set_index('Year')"
   ]
  },
  {
   "cell_type": "code",
   "execution_count": 46,
   "metadata": {},
   "outputs": [
    {
     "name": "stdout",
     "output_type": "stream",
     "text": [
      "predicted=3204492408.179185, expected=3238223660.000000\n",
      "predicted=3710482134.247482, expected=4043165652.000000\n",
      "R^2: 0.6548520907942633\n"
     ]
    },
    {
     "name": "stderr",
     "output_type": "stream",
     "text": [
      "C:\\Users\\pooji\\Anaconda3\\lib\\site-packages\\statsmodels\\base\\model.py:488: HessianInversionWarning: Inverting hessian failed, no bse or cov_params available\n",
      "  'available', HessianInversionWarning)\n",
      "C:\\Users\\pooji\\Anaconda3\\lib\\site-packages\\scipy\\signal\\signaltools.py:1344: FutureWarning: Using a non-tuple sequence for multidimensional indexing is deprecated; use `arr[tuple(seq)]` instead of `arr[seq]`. In the future this will be interpreted as an array index, `arr[np.array(seq)]`, which will result either in an error or a different result.\n",
      "  out = out_full[ind]\n"
     ]
    }
   ],
   "source": [
    "from sklearn import metrics\n",
    "\n",
    "X = z2.values\n",
    "X = [int(x) for x in X]\n",
    "train = X[:10]\n",
    "test = X[10:]\n",
    "history = [x for x in train]\n",
    "predictions = list()\n",
    "\n",
    "for t in range(len(test)):\n",
    "    model = ARIMA(history, order=(0,1,1))\n",
    "    model_fit = model.fit(disp=0)\n",
    "    output = model_fit.forecast()\n",
    "    yhat = output[0]\n",
    "    predictions.append(yhat)\n",
    "    obs = test[t]\n",
    "    history.append(obs)\n",
    "    print('predicted=%f, expected=%f' % (yhat, obs))\n",
    "print(\"R^2:\", metrics.r2_score(test, predictions))"
   ]
  },
  {
   "cell_type": "code",
   "execution_count": 47,
   "metadata": {},
   "outputs": [
    {
     "name": "stderr",
     "output_type": "stream",
     "text": [
      "C:\\Users\\pooji\\Anaconda3\\lib\\site-packages\\statsmodels\\base\\model.py:488: HessianInversionWarning: Inverting hessian failed, no bse or cov_params available\n",
      "  'available', HessianInversionWarning)\n",
      "C:\\Users\\pooji\\Anaconda3\\lib\\site-packages\\scipy\\signal\\signaltools.py:1344: FutureWarning: Using a non-tuple sequence for multidimensional indexing is deprecated; use `arr[tuple(seq)]` instead of `arr[seq]`. In the future this will be interpreted as an array index, `arr[np.array(seq)]`, which will result either in an error or a different result.\n",
      "  out = out_full[ind]\n",
      "C:\\Users\\pooji\\Anaconda3\\lib\\site-packages\\statsmodels\\base\\model.py:508: ConvergenceWarning: Maximum Likelihood optimization failed to converge. Check mle_retvals\n",
      "  \"Check mle_retvals\", ConvergenceWarning)\n"
     ]
    },
    {
     "data": {
      "image/png": "[encoded data removed]",
      "text/plain": [
       "<Figure size 432x288 with 1 Axes>"
      ]
     },
     "metadata": {
      "needs_background": "light"
     },
     "output_type": "display_data"
    }
   ],
   "source": [
    "X = z2.values\n",
    "X = [int(x) for x in X]\n",
    "history = [int(x) for x in X]\n",
    "predictions = list(history)\n",
    "\n",
    "for t in range(12,27):\n",
    "    model = ARIMA(history, order=(0,1,1))\n",
    "    model_fit = model.fit()\n",
    "    output = model_fit.forecast()\n",
    "    yhat = int(output[0])\n",
    "    predictions.append(yhat)\n",
    "    history.append(yhat)\n",
    "# plot\n",
    "pyplot.plot(X)\n",
    "pyplot.plot(predictions, color='red', alpha=0.5)\n",
    "pyplot.show()"
   ]
  },
  {
   "cell_type": "code",
   "execution_count": 48,
   "metadata": {},
   "outputs": [],
   "source": [
    "df_investent_future['wind_invest_pred'] = predictions"
   ]
  },
  {
   "cell_type": "code",
   "execution_count": 49,
   "metadata": {},
   "outputs": [
    {
     "data": {
      "text/html": [
       "<div>\n",
       "<style scoped>\n",
       "    .dataframe tbody tr th:only-of-type {\n",
       "        vertical-align: middle;\n",
       "    }\n",
       "\n",
       "    .dataframe tbody tr th {\n",
       "        vertical-align: top;\n",
       "    }\n",
       "\n",
       "    .dataframe thead th {\n",
       "        text-align: right;\n",
       "    }\n",
       "</style>\n",
       "<table border=\"1\" class=\"dataframe\">\n",
       "  <thead>\n",
       "    <tr style=\"text-align: right;\">\n",
       "      <th></th>\n",
       "      <th>solar_invest_pred</th>\n",
       "      <th>wind_invest_pred</th>\n",
       "    </tr>\n",
       "    <tr>\n",
       "      <th>year</th>\n",
       "      <th></th>\n",
       "      <th></th>\n",
       "    </tr>\n",
       "  </thead>\n",
       "  <tbody>\n",
       "    <tr>\n",
       "      <th>2004</th>\n",
       "      <td>645787234</td>\n",
       "      <td>1130127659</td>\n",
       "    </tr>\n",
       "    <tr>\n",
       "      <th>2005</th>\n",
       "      <td>661771978</td>\n",
       "      <td>1186195054</td>\n",
       "    </tr>\n",
       "    <tr>\n",
       "      <th>2006</th>\n",
       "      <td>944401064</td>\n",
       "      <td>1711996450</td>\n",
       "    </tr>\n",
       "    <tr>\n",
       "      <th>2007</th>\n",
       "      <td>1633653483</td>\n",
       "      <td>2565969868</td>\n",
       "    </tr>\n",
       "    <tr>\n",
       "      <th>2008</th>\n",
       "      <td>1894727272</td>\n",
       "      <td>2312000000</td>\n",
       "    </tr>\n",
       "  </tbody>\n",
       "</table>\n",
       "</div>"
      ],
      "text/plain": [
       "      solar_invest_pred  wind_invest_pred\n",
       "year                                     \n",
       "2004          645787234        1130127659\n",
       "2005          661771978        1186195054\n",
       "2006          944401064        1711996450\n",
       "2007         1633653483        2565969868\n",
       "2008         1894727272        2312000000"
      ]
     },
     "execution_count": 49,
     "metadata": {},
     "output_type": "execute_result"
    }
   ],
   "source": [
    "df_investent_future.head()"
   ]
  },
  {
   "cell_type": "code",
   "execution_count": 50,
   "metadata": {},
   "outputs": [],
   "source": [
    "y3 = list(Investment_forcast_India['investment_hydro'])\n",
    "x3 = list(Investment_forcast_India['Year'])"
   ]
  },
  {
   "cell_type": "code",
   "execution_count": 51,
   "metadata": {},
   "outputs": [
    {
     "data": {
      "text/plain": [
       "[<matplotlib.lines.Line2D at 0x179dd0db9b0>]"
      ]
     },
     "execution_count": 51,
     "metadata": {},
     "output_type": "execute_result"
    },
    {
     "data": {
      "image/png": "[encoded data removed]",
      "text/plain": [
       "<Figure size 432x288 with 1 Axes>"
      ]
     },
     "metadata": {
      "needs_background": "light"
     },
     "output_type": "display_data"
    }
   ],
   "source": [
    "pyplot.plot(x3, y3)  "
   ]
  },
  {
   "cell_type": "code",
   "execution_count": 52,
   "metadata": {},
   "outputs": [],
   "source": [
    "z3 = pd.DataFrame(x3, columns = ['Year'])"
   ]
  },
  {
   "cell_type": "code",
   "execution_count": 53,
   "metadata": {},
   "outputs": [],
   "source": [
    "z3['investment_hydro'] = y3"
   ]
  },
  {
   "cell_type": "code",
   "execution_count": 54,
   "metadata": {},
   "outputs": [],
   "source": [
    "z3 = z3.set_index('Year')"
   ]
  },
  {
   "cell_type": "code",
   "execution_count": 67,
   "metadata": {},
   "outputs": [
    {
     "name": "stdout",
     "output_type": "stream",
     "text": [
      "predicted=157184523.257498, expected=191010427.000000\n",
      "predicted=193901888.844454, expected=113937840.000000\n",
      "R^2: -1.538117100195365\n"
     ]
    },
    {
     "name": "stderr",
     "output_type": "stream",
     "text": [
      "C:\\Users\\pooji\\Anaconda3\\lib\\site-packages\\scipy\\signal\\signaltools.py:1341: FutureWarning: Using a non-tuple sequence for multidimensional indexing is deprecated; use `arr[tuple(seq)]` instead of `arr[seq]`. In the future this will be interpreted as an array index, `arr[np.array(seq)]`, which will result either in an error or a different result.\n",
      "  out_full[ind] += zi\n",
      "C:\\Users\\pooji\\Anaconda3\\lib\\site-packages\\scipy\\signal\\signaltools.py:1344: FutureWarning: Using a non-tuple sequence for multidimensional indexing is deprecated; use `arr[tuple(seq)]` instead of `arr[seq]`. In the future this will be interpreted as an array index, `arr[np.array(seq)]`, which will result either in an error or a different result.\n",
      "  out = out_full[ind]\n",
      "C:\\Users\\pooji\\Anaconda3\\lib\\site-packages\\scipy\\signal\\signaltools.py:1350: FutureWarning: Using a non-tuple sequence for multidimensional indexing is deprecated; use `arr[tuple(seq)]` instead of `arr[seq]`. In the future this will be interpreted as an array index, `arr[np.array(seq)]`, which will result either in an error or a different result.\n",
      "  zf = out_full[ind]\n"
     ]
    }
   ],
   "source": [
    "from sklearn import metrics\n",
    "\n",
    "X = z3.values\n",
    "X = [int(x) for x in X]\n",
    "train = X[:10]\n",
    "test = X[10:]\n",
    "history = [x for x in train]\n",
    "predictions = list()\n",
    "\n",
    "for t in range(len(test)):\n",
    "    model = ARIMA(history, order=(1,1,0))\n",
    "    model_fit = model.fit(disp=0)\n",
    "    output = model_fit.forecast()\n",
    "    yhat = output[0]\n",
    "    predictions.append(yhat)\n",
    "    obs = test[t]\n",
    "    history.append(obs)\n",
    "    print('predicted=%f, expected=%f' % (yhat, obs))\n",
    "print(\"R^2:\", metrics.r2_score(test, predictions))"
   ]
  },
  {
   "cell_type": "code",
   "execution_count": 68,
   "metadata": {},
   "outputs": [
    {
     "name": "stderr",
     "output_type": "stream",
     "text": [
      "C:\\Users\\pooji\\Anaconda3\\lib\\site-packages\\scipy\\signal\\signaltools.py:1341: FutureWarning: Using a non-tuple sequence for multidimensional indexing is deprecated; use `arr[tuple(seq)]` instead of `arr[seq]`. In the future this will be interpreted as an array index, `arr[np.array(seq)]`, which will result either in an error or a different result.\n",
      "  out_full[ind] += zi\n",
      "C:\\Users\\pooji\\Anaconda3\\lib\\site-packages\\scipy\\signal\\signaltools.py:1344: FutureWarning: Using a non-tuple sequence for multidimensional indexing is deprecated; use `arr[tuple(seq)]` instead of `arr[seq]`. In the future this will be interpreted as an array index, `arr[np.array(seq)]`, which will result either in an error or a different result.\n",
      "  out = out_full[ind]\n",
      "C:\\Users\\pooji\\Anaconda3\\lib\\site-packages\\scipy\\signal\\signaltools.py:1350: FutureWarning: Using a non-tuple sequence for multidimensional indexing is deprecated; use `arr[tuple(seq)]` instead of `arr[seq]`. In the future this will be interpreted as an array index, `arr[np.array(seq)]`, which will result either in an error or a different result.\n",
      "  zf = out_full[ind]\n"
     ]
    },
    {
     "data": {
      "image/png": "[encoded data removed]",
      "text/plain": [
       "<Figure size 432x288 with 1 Axes>"
      ]
     },
     "metadata": {
      "needs_background": "light"
     },
     "output_type": "display_data"
    }
   ],
   "source": [
    "X = z3.values\n",
    "X = [int(x) for x in X]\n",
    "history = [int(x) for x in X]\n",
    "predictions = list(history)\n",
    "\n",
    "for t in range(12,27):\n",
    "    model = ARIMA(history, order=(1,1,0))\n",
    "    model_fit = model.fit()\n",
    "    output = model_fit.forecast()\n",
    "    yhat = int(output[0])\n",
    "    predictions.append(yhat)\n",
    "    history.append(yhat)\n",
    "# plot\n",
    "pyplot.plot(X)\n",
    "pyplot.plot(predictions, color='red', alpha=0.5)\n",
    "pyplot.show()"
   ]
  },
  {
   "cell_type": "code",
   "execution_count": 69,
   "metadata": {},
   "outputs": [],
   "source": [
    "df_investent_future['hydro_invest_pred'] = predictions"
   ]
  },
  {
   "cell_type": "code",
   "execution_count": 70,
   "metadata": {},
   "outputs": [
    {
     "data": {
      "text/html": [
       "<div>\n",
       "<style scoped>\n",
       "    .dataframe tbody tr th:only-of-type {\n",
       "        vertical-align: middle;\n",
       "    }\n",
       "\n",
       "    .dataframe tbody tr th {\n",
       "        vertical-align: top;\n",
       "    }\n",
       "\n",
       "    .dataframe thead th {\n",
       "        text-align: right;\n",
       "    }\n",
       "</style>\n",
       "<table border=\"1\" class=\"dataframe\">\n",
       "  <thead>\n",
       "    <tr style=\"text-align: right;\">\n",
       "      <th></th>\n",
       "      <th>solar_invest_pred</th>\n",
       "      <th>wind_invest_pred</th>\n",
       "      <th>hydro_invest_pred</th>\n",
       "    </tr>\n",
       "    <tr>\n",
       "      <th>year</th>\n",
       "      <th></th>\n",
       "      <th></th>\n",
       "      <th></th>\n",
       "    </tr>\n",
       "  </thead>\n",
       "  <tbody>\n",
       "    <tr>\n",
       "      <th>2004</th>\n",
       "      <td>645787234</td>\n",
       "      <td>1130127659</td>\n",
       "      <td>155680851</td>\n",
       "    </tr>\n",
       "    <tr>\n",
       "      <th>2005</th>\n",
       "      <td>661771978</td>\n",
       "      <td>1186195054</td>\n",
       "      <td>307994505</td>\n",
       "    </tr>\n",
       "    <tr>\n",
       "      <th>2006</th>\n",
       "      <td>944401064</td>\n",
       "      <td>1711996450</td>\n",
       "      <td>323425022</td>\n",
       "    </tr>\n",
       "    <tr>\n",
       "      <th>2007</th>\n",
       "      <td>1633653483</td>\n",
       "      <td>2565969868</td>\n",
       "      <td>268775894</td>\n",
       "    </tr>\n",
       "    <tr>\n",
       "      <th>2008</th>\n",
       "      <td>1894727272</td>\n",
       "      <td>2312000000</td>\n",
       "      <td>234909090</td>\n",
       "    </tr>\n",
       "  </tbody>\n",
       "</table>\n",
       "</div>"
      ],
      "text/plain": [
       "      solar_invest_pred  wind_invest_pred  hydro_invest_pred\n",
       "year                                                        \n",
       "2004          645787234        1130127659          155680851\n",
       "2005          661771978        1186195054          307994505\n",
       "2006          944401064        1711996450          323425022\n",
       "2007         1633653483        2565969868          268775894\n",
       "2008         1894727272        2312000000          234909090"
      ]
     },
     "execution_count": 70,
     "metadata": {},
     "output_type": "execute_result"
    }
   ],
   "source": [
    "df_investent_future.head()"
   ]
  },
  {
   "cell_type": "code",
   "execution_count": 71,
   "metadata": {},
   "outputs": [],
   "source": [
    "x4 = list(Investment_forcast_India['Year'])\n",
    "y4 = []\n",
    "for i in range(len(x4)):\n",
    "    y4.append(list(Investment_forcast_India['investment_geo'])[i] + list(Investment_forcast_India['investment_biomass'])[i] + list(Investment_forcast_India['investment_biofuel'])[i])"
   ]
  },
  {
   "cell_type": "code",
   "execution_count": 134,
   "metadata": {},
   "outputs": [
    {
     "data": {
      "text/plain": [
       "[<matplotlib.lines.Line2D at 0x179dd5b4b00>]"
      ]
     },
     "execution_count": 134,
     "metadata": {},
     "output_type": "execute_result"
    },
    {
     "data": {
      "image/png": "[encoded data removed]",
      "text/plain": [
       "<Figure size 432x288 with 1 Axes>"
      ]
     },
     "metadata": {
      "needs_background": "light"
     },
     "output_type": "display_data"
    }
   ],
   "source": [
    "pyplot.plot(x4, y4)  "
   ]
  },
  {
   "cell_type": "code",
   "execution_count": 135,
   "metadata": {},
   "outputs": [],
   "source": [
    "z4 = pd.DataFrame(x4, columns = ['Year'])"
   ]
  },
  {
   "cell_type": "code",
   "execution_count": 136,
   "metadata": {},
   "outputs": [],
   "source": [
    "z4['investment_other'] = y4"
   ]
  },
  {
   "cell_type": "code",
   "execution_count": 137,
   "metadata": {},
   "outputs": [],
   "source": [
    "z4 = z4.set_index('Year')"
   ]
  },
  {
   "cell_type": "code",
   "execution_count": 138,
   "metadata": {},
   "outputs": [
    {
     "name": "stdout",
     "output_type": "stream",
     "text": [
      "predicted=541317507.619397, expected=567062207.000000\n",
      "predicted=547025403.881941, expected=406920858.000000\n",
      "R^2: -0.5825208964509543\n"
     ]
    },
    {
     "name": "stderr",
     "output_type": "stream",
     "text": [
      "C:\\Users\\pooji\\Anaconda3\\lib\\site-packages\\scipy\\signal\\signaltools.py:1341: FutureWarning: Using a non-tuple sequence for multidimensional indexing is deprecated; use `arr[tuple(seq)]` instead of `arr[seq]`. In the future this will be interpreted as an array index, `arr[np.array(seq)]`, which will result either in an error or a different result.\n",
      "  out_full[ind] += zi\n",
      "C:\\Users\\pooji\\Anaconda3\\lib\\site-packages\\scipy\\signal\\signaltools.py:1350: FutureWarning: Using a non-tuple sequence for multidimensional indexing is deprecated; use `arr[tuple(seq)]` instead of `arr[seq]`. In the future this will be interpreted as an array index, `arr[np.array(seq)]`, which will result either in an error or a different result.\n",
      "  zf = out_full[ind]\n"
     ]
    }
   ],
   "source": [
    "from sklearn import metrics\n",
    "\n",
    "X = z4.values\n",
    "X = [int(x) for x in X]\n",
    "train = X[:10]\n",
    "test = X[10:]\n",
    "history = [x for x in train]\n",
    "predictions = list()\n",
    "\n",
    "for t in range(len(test)):\n",
    "    model = ARIMA(history, order=(1,1,0))\n",
    "    model_fit = model.fit(disp=0)\n",
    "    output = model_fit.forecast()\n",
    "    yhat = output[0]\n",
    "    predictions.append(yhat)\n",
    "    obs = test[t]\n",
    "    history.append(obs)\n",
    "    print('predicted=%f, expected=%f' % (yhat, obs))\n",
    "print(\"R^2:\", metrics.r2_score(test, predictions))"
   ]
  },
  {
   "cell_type": "code",
   "execution_count": 139,
   "metadata": {},
   "outputs": [
    {
     "name": "stderr",
     "output_type": "stream",
     "text": [
      "C:\\Users\\pooji\\Anaconda3\\lib\\site-packages\\scipy\\signal\\signaltools.py:1341: FutureWarning: Using a non-tuple sequence for multidimensional indexing is deprecated; use `arr[tuple(seq)]` instead of `arr[seq]`. In the future this will be interpreted as an array index, `arr[np.array(seq)]`, which will result either in an error or a different result.\n",
      "  out_full[ind] += zi\n",
      "C:\\Users\\pooji\\Anaconda3\\lib\\site-packages\\scipy\\signal\\signaltools.py:1344: FutureWarning: Using a non-tuple sequence for multidimensional indexing is deprecated; use `arr[tuple(seq)]` instead of `arr[seq]`. In the future this will be interpreted as an array index, `arr[np.array(seq)]`, which will result either in an error or a different result.\n",
      "  out = out_full[ind]\n",
      "C:\\Users\\pooji\\Anaconda3\\lib\\site-packages\\scipy\\signal\\signaltools.py:1350: FutureWarning: Using a non-tuple sequence for multidimensional indexing is deprecated; use `arr[tuple(seq)]` instead of `arr[seq]`. In the future this will be interpreted as an array index, `arr[np.array(seq)]`, which will result either in an error or a different result.\n",
      "  zf = out_full[ind]\n"
     ]
    },
    {
     "data": {
      "image/png": "[encoded data removed]",
      "text/plain": [
       "<Figure size 432x288 with 1 Axes>"
      ]
     },
     "metadata": {
      "needs_background": "light"
     },
     "output_type": "display_data"
    }
   ],
   "source": [
    "X = z4.values\n",
    "X = [int(x) for x in X]\n",
    "history = [int(x) for x in X]\n",
    "predictions = list(history)\n",
    "\n",
    "for t in range(12,27):\n",
    "    model = ARIMA(history, order=(1,1,0))\n",
    "    model_fit = model.fit()\n",
    "    output = model_fit.forecast()\n",
    "    yhat = int(output[0])\n",
    "    predictions.append(yhat)\n",
    "    history.append(yhat)\n",
    "# plot\n",
    "pyplot.plot(X)\n",
    "pyplot.plot(predictions, color='red', alpha=0.5)\n",
    "pyplot.show()"
   ]
  },
  {
   "cell_type": "code",
   "execution_count": 140,
   "metadata": {},
   "outputs": [],
   "source": [
    "df_investent_future['other_invest_pred'] = predictions"
   ]
  },
  {
   "cell_type": "code",
   "execution_count": 141,
   "metadata": {},
   "outputs": [],
   "source": [
    "y5 = list(Investment_forcast_India['Investment in Renewables by Region'])\n",
    "x5 = list(Investment_forcast_India['Year'])"
   ]
  },
  {
   "cell_type": "code",
   "execution_count": 142,
   "metadata": {},
   "outputs": [
    {
     "data": {
      "text/plain": [
       "[<matplotlib.lines.Line2D at 0x179dd27dc18>]"
      ]
     },
     "execution_count": 142,
     "metadata": {},
     "output_type": "execute_result"
    },
    {
     "data": {
      "image/png": "[encoded data removed]",
      "text/plain": [
       "<Figure size 432x288 with 1 Axes>"
      ]
     },
     "metadata": {
      "needs_background": "light"
     },
     "output_type": "display_data"
    }
   ],
   "source": [
    "pyplot.plot(x5, y5)  "
   ]
  },
  {
   "cell_type": "code",
   "execution_count": 143,
   "metadata": {},
   "outputs": [],
   "source": [
    "z5 = pd.DataFrame(x5, columns = ['Year'])"
   ]
  },
  {
   "cell_type": "code",
   "execution_count": 144,
   "metadata": {},
   "outputs": [],
   "source": [
    "z5['investment_total'] = y5"
   ]
  },
  {
   "cell_type": "code",
   "execution_count": 145,
   "metadata": {},
   "outputs": [],
   "source": [
    "z5 = z5.set_index('Year')"
   ]
  },
  {
   "cell_type": "code",
   "execution_count": 146,
   "metadata": {},
   "outputs": [
    {
     "name": "stdout",
     "output_type": "stream",
     "text": [
      "predicted=8846238790.331493, expected=8300000000.000000\n",
      "predicted=9949170704.009136, expected=10160000000.000000\n",
      "R^2: 0.8018118810782654\n"
     ]
    },
    {
     "name": "stderr",
     "output_type": "stream",
     "text": [
      "C:\\Users\\pooji\\Anaconda3\\lib\\site-packages\\statsmodels\\base\\model.py:488: HessianInversionWarning: Inverting hessian failed, no bse or cov_params available\n",
      "  'available', HessianInversionWarning)\n"
     ]
    }
   ],
   "source": [
    "from sklearn import metrics\n",
    "\n",
    "X = z5.values\n",
    "X = [int(x) for x in X]\n",
    "train = X[:10]\n",
    "test = X[10:]\n",
    "history = [x for x in train]\n",
    "predictions = list()\n",
    "\n",
    "for t in range(len(test)):\n",
    "    model = ARIMA(history, order=(0,1,1))\n",
    "    model_fit = model.fit(disp=0)\n",
    "    output = model_fit.forecast()\n",
    "    yhat = output[0]\n",
    "    predictions.append(yhat)\n",
    "    obs = test[t]\n",
    "    history.append(obs)\n",
    "    print('predicted=%f, expected=%f' % (yhat, obs))\n",
    "print(\"R^2:\", metrics.r2_score(test, predictions))"
   ]
  },
  {
   "cell_type": "code",
   "execution_count": 167,
   "metadata": {},
   "outputs": [
    {
     "name": "stderr",
     "output_type": "stream",
     "text": [
      "C:\\Users\\pooji\\Anaconda3\\lib\\site-packages\\statsmodels\\base\\model.py:488: HessianInversionWarning: Inverting hessian failed, no bse or cov_params available\n",
      "  'available', HessianInversionWarning)\n",
      "C:\\Users\\pooji\\Anaconda3\\lib\\site-packages\\statsmodels\\base\\model.py:508: ConvergenceWarning: Maximum Likelihood optimization failed to converge. Check mle_retvals\n",
      "  \"Check mle_retvals\", ConvergenceWarning)\n",
      "C:\\Users\\pooji\\Anaconda3\\lib\\site-packages\\statsmodels\\base\\model.py:488: HessianInversionWarning: Inverting hessian failed, no bse or cov_params available\n",
      "  'available', HessianInversionWarning)\n",
      "C:\\Users\\pooji\\Anaconda3\\lib\\site-packages\\statsmodels\\base\\model.py:488: HessianInversionWarning: Inverting hessian failed, no bse or cov_params available\n",
      "  'available', HessianInversionWarning)\n",
      "C:\\Users\\pooji\\Anaconda3\\lib\\site-packages\\statsmodels\\base\\model.py:488: HessianInversionWarning: Inverting hessian failed, no bse or cov_params available\n",
      "  'available', HessianInversionWarning)\n",
      "C:\\Users\\pooji\\Anaconda3\\lib\\site-packages\\statsmodels\\base\\model.py:488: HessianInversionWarning: Inverting hessian failed, no bse or cov_params available\n",
      "  'available', HessianInversionWarning)\n",
      "C:\\Users\\pooji\\Anaconda3\\lib\\site-packages\\statsmodels\\base\\model.py:488: HessianInversionWarning: Inverting hessian failed, no bse or cov_params available\n",
      "  'available', HessianInversionWarning)\n",
      "C:\\Users\\pooji\\Anaconda3\\lib\\site-packages\\statsmodels\\base\\model.py:488: HessianInversionWarning: Inverting hessian failed, no bse or cov_params available\n",
      "  'available', HessianInversionWarning)\n",
      "C:\\Users\\pooji\\Anaconda3\\lib\\site-packages\\statsmodels\\base\\model.py:488: HessianInversionWarning: Inverting hessian failed, no bse or cov_params available\n",
      "  'available', HessianInversionWarning)\n",
      "C:\\Users\\pooji\\Anaconda3\\lib\\site-packages\\statsmodels\\base\\model.py:488: HessianInversionWarning: Inverting hessian failed, no bse or cov_params available\n",
      "  'available', HessianInversionWarning)\n",
      "C:\\Users\\pooji\\Anaconda3\\lib\\site-packages\\statsmodels\\base\\model.py:488: HessianInversionWarning: Inverting hessian failed, no bse or cov_params available\n",
      "  'available', HessianInversionWarning)\n",
      "C:\\Users\\pooji\\Anaconda3\\lib\\site-packages\\statsmodels\\base\\model.py:488: HessianInversionWarning: Inverting hessian failed, no bse or cov_params available\n",
      "  'available', HessianInversionWarning)\n",
      "C:\\Users\\pooji\\Anaconda3\\lib\\site-packages\\statsmodels\\base\\model.py:488: HessianInversionWarning: Inverting hessian failed, no bse or cov_params available\n",
      "  'available', HessianInversionWarning)\n",
      "C:\\Users\\pooji\\Anaconda3\\lib\\site-packages\\statsmodels\\base\\model.py:488: HessianInversionWarning: Inverting hessian failed, no bse or cov_params available\n",
      "  'available', HessianInversionWarning)\n"
     ]
    },
    {
     "data": {
      "image/png": "[encoded data removed]",
      "text/plain": [
       "<Figure size 432x288 with 1 Axes>"
      ]
     },
     "metadata": {
      "needs_background": "light"
     },
     "output_type": "display_data"
    }
   ],
   "source": [
    "X = z5.values\n",
    "X = [int(x) for x in X]\n",
    "history = [int(x) for x in X]\n",
    "predictions = list(history)\n",
    "\n",
    "for t in range(12,27):\n",
    "    model = ARIMA(history, order=(0,1,1))\n",
    "    model_fit = model.fit()\n",
    "    output = model_fit.forecast()\n",
    "    \n",
    "    if type(output[0]) == int:\n",
    "        k = int(output[0])\n",
    "    else:\n",
    "        k = np.nan_to_num(output[0])\n",
    "        if k == 0:\n",
    "            k = np.mean(predictions)\n",
    "    \n",
    "    yhat = int(k)\n",
    "    predictions.append(yhat)\n",
    "    history.append(yhat)\n",
    "# plot\n",
    "pyplot.plot(X)\n",
    "pyplot.plot(predictions, color='red', alpha=0.5)\n",
    "pyplot.show()"
   ]
  },
  {
   "cell_type": "code",
   "execution_count": 168,
   "metadata": {},
   "outputs": [],
   "source": [
    "df_investent_future['T_invest_pred'] = predictions"
   ]
  },
  {
   "cell_type": "code",
   "execution_count": 169,
   "metadata": {},
   "outputs": [],
   "source": [
    "df_investent_future.to_excel(\"investment_growth_forecast_2004-2030_India.xlsx\")"
   ]
  },
  {
   "cell_type": "code",
   "execution_count": 170,
   "metadata": {
    "scrolled": true
   },
   "outputs": [
    {
     "data": {
      "text/html": [
       "<div>\n",
       "<style scoped>\n",
       "    .dataframe tbody tr th:only-of-type {\n",
       "        vertical-align: middle;\n",
       "    }\n",
       "\n",
       "    .dataframe tbody tr th {\n",
       "        vertical-align: top;\n",
       "    }\n",
       "\n",
       "    .dataframe thead th {\n",
       "        text-align: right;\n",
       "    }\n",
       "</style>\n",
       "<table border=\"1\" class=\"dataframe\">\n",
       "  <thead>\n",
       "    <tr style=\"text-align: right;\">\n",
       "      <th></th>\n",
       "      <th>solar_invest_pred</th>\n",
       "      <th>wind_invest_pred</th>\n",
       "      <th>hydro_invest_pred</th>\n",
       "      <th>other_invest_pred</th>\n",
       "      <th>T_invest_pred</th>\n",
       "    </tr>\n",
       "    <tr>\n",
       "      <th>year</th>\n",
       "      <th></th>\n",
       "      <th></th>\n",
       "      <th></th>\n",
       "      <th></th>\n",
       "      <th></th>\n",
       "    </tr>\n",
       "  </thead>\n",
       "  <tbody>\n",
       "    <tr>\n",
       "      <th>2004</th>\n",
       "      <td>645787234</td>\n",
       "      <td>1130127659</td>\n",
       "      <td>155680851</td>\n",
       "      <td>778404255</td>\n",
       "      <td>2710000000</td>\n",
       "    </tr>\n",
       "    <tr>\n",
       "      <th>2005</th>\n",
       "      <td>661771978</td>\n",
       "      <td>1186195054</td>\n",
       "      <td>307994505</td>\n",
       "      <td>869876373</td>\n",
       "      <td>3030000000</td>\n",
       "    </tr>\n",
       "    <tr>\n",
       "      <th>2006</th>\n",
       "      <td>944401064</td>\n",
       "      <td>1711996450</td>\n",
       "      <td>323425022</td>\n",
       "      <td>1845678793</td>\n",
       "      <td>4860000000</td>\n",
       "    </tr>\n",
       "    <tr>\n",
       "      <th>2007</th>\n",
       "      <td>1633653483</td>\n",
       "      <td>2565969868</td>\n",
       "      <td>268775894</td>\n",
       "      <td>2188003766</td>\n",
       "      <td>6690000000</td>\n",
       "    </tr>\n",
       "    <tr>\n",
       "      <th>2008</th>\n",
       "      <td>1894727272</td>\n",
       "      <td>2312000000</td>\n",
       "      <td>234909090</td>\n",
       "      <td>1162181818</td>\n",
       "      <td>5610000000</td>\n",
       "    </tr>\n",
       "    <tr>\n",
       "      <th>2009</th>\n",
       "      <td>1537149270</td>\n",
       "      <td>1914231200</td>\n",
       "      <td>148911335</td>\n",
       "      <td>672502805</td>\n",
       "      <td>4280000000</td>\n",
       "    </tr>\n",
       "    <tr>\n",
       "      <th>2010</th>\n",
       "      <td>3761084188</td>\n",
       "      <td>3688476386</td>\n",
       "      <td>294061601</td>\n",
       "      <td>1089117043</td>\n",
       "      <td>8840000000</td>\n",
       "    </tr>\n",
       "    <tr>\n",
       "      <th>2011</th>\n",
       "      <td>7039907539</td>\n",
       "      <td>3826728307</td>\n",
       "      <td>340860597</td>\n",
       "      <td>1563413940</td>\n",
       "      <td>12780000000</td>\n",
       "    </tr>\n",
       "    <tr>\n",
       "      <th>2012</th>\n",
       "      <td>4293970242</td>\n",
       "      <td>2577603758</td>\n",
       "      <td>195458104</td>\n",
       "      <td>723805794</td>\n",
       "      <td>7800000000</td>\n",
       "    </tr>\n",
       "    <tr>\n",
       "      <th>2013</th>\n",
       "      <td>3333174061</td>\n",
       "      <td>2490784982</td>\n",
       "      <td>156723549</td>\n",
       "      <td>573720136</td>\n",
       "      <td>6560000000</td>\n",
       "    </tr>\n",
       "    <tr>\n",
       "      <th>2014</th>\n",
       "      <td>4294750089</td>\n",
       "      <td>3238223660</td>\n",
       "      <td>191010427</td>\n",
       "      <td>567062207</td>\n",
       "      <td>8300000000</td>\n",
       "    </tr>\n",
       "    <tr>\n",
       "      <th>2015</th>\n",
       "      <td>5589464915</td>\n",
       "      <td>4043165652</td>\n",
       "      <td>113937840</td>\n",
       "      <td>406920858</td>\n",
       "      <td>10160000000</td>\n",
       "    </tr>\n",
       "    <tr>\n",
       "      <th>2016</th>\n",
       "      <td>5013546434</td>\n",
       "      <td>4275782123</td>\n",
       "      <td>115711219</td>\n",
       "      <td>363610622</td>\n",
       "      <td>11237272471</td>\n",
       "    </tr>\n",
       "    <tr>\n",
       "      <th>2017</th>\n",
       "      <td>4470712860</td>\n",
       "      <td>4523159288</td>\n",
       "      <td>111994925</td>\n",
       "      <td>328380020</td>\n",
       "      <td>7142867113</td>\n",
       "    </tr>\n",
       "    <tr>\n",
       "      <th>2018</th>\n",
       "      <td>5047972823</td>\n",
       "      <td>4777349087</td>\n",
       "      <td>108661585</td>\n",
       "      <td>293715884</td>\n",
       "      <td>9866081977</td>\n",
       "    </tr>\n",
       "    <tr>\n",
       "      <th>2019</th>\n",
       "      <td>5761563982</td>\n",
       "      <td>5034701894</td>\n",
       "      <td>105301134</td>\n",
       "      <td>259091940</td>\n",
       "      <td>11487036374</td>\n",
       "    </tr>\n",
       "    <tr>\n",
       "      <th>2020</th>\n",
       "      <td>5672652120</td>\n",
       "      <td>5293530772</td>\n",
       "      <td>101942625</td>\n",
       "      <td>224470877</td>\n",
       "      <td>12590634628</td>\n",
       "    </tr>\n",
       "    <tr>\n",
       "      <th>2021</th>\n",
       "      <td>5510223332</td>\n",
       "      <td>5553051558</td>\n",
       "      <td>98583975</td>\n",
       "      <td>189850023</td>\n",
       "      <td>13451205429</td>\n",
       "    </tr>\n",
       "    <tr>\n",
       "      <th>2022</th>\n",
       "      <td>5921350300</td>\n",
       "      <td>5812897948</td>\n",
       "      <td>95225336</td>\n",
       "      <td>155229184</td>\n",
       "      <td>14197408627</td>\n",
       "    </tr>\n",
       "    <tr>\n",
       "      <th>2023</th>\n",
       "      <td>6422707513</td>\n",
       "      <td>6072898096</td>\n",
       "      <td>91866696</td>\n",
       "      <td>120608346</td>\n",
       "      <td>14889604917</td>\n",
       "    </tr>\n",
       "    <tr>\n",
       "      <th>2024</th>\n",
       "      <td>6531953425</td>\n",
       "      <td>6332971076</td>\n",
       "      <td>88508056</td>\n",
       "      <td>85987508</td>\n",
       "      <td>15556218981</td>\n",
       "    </tr>\n",
       "    <tr>\n",
       "      <th>2025</th>\n",
       "      <td>6594320358</td>\n",
       "      <td>6593078651</td>\n",
       "      <td>85149416</td>\n",
       "      <td>51366670</td>\n",
       "      <td>16210681486</td>\n",
       "    </tr>\n",
       "    <tr>\n",
       "      <th>2026</th>\n",
       "      <td>6959975204</td>\n",
       "      <td>6853202701</td>\n",
       "      <td>81790776</td>\n",
       "      <td>16745832</td>\n",
       "      <td>16859357539</td>\n",
       "    </tr>\n",
       "    <tr>\n",
       "      <th>2027</th>\n",
       "      <td>7381703263</td>\n",
       "      <td>7113334613</td>\n",
       "      <td>78432136</td>\n",
       "      <td>-17875005</td>\n",
       "      <td>17505271874</td>\n",
       "    </tr>\n",
       "    <tr>\n",
       "      <th>2028</th>\n",
       "      <td>7603116732</td>\n",
       "      <td>7373470285</td>\n",
       "      <td>75073496</td>\n",
       "      <td>-52495842</td>\n",
       "      <td>18149865386</td>\n",
       "    </tr>\n",
       "    <tr>\n",
       "      <th>2029</th>\n",
       "      <td>7804844549</td>\n",
       "      <td>7633607759</td>\n",
       "      <td>71714856</td>\n",
       "      <td>-87116679</td>\n",
       "      <td>18793826005</td>\n",
       "    </tr>\n",
       "    <tr>\n",
       "      <th>2030</th>\n",
       "      <td>8174715338</td>\n",
       "      <td>7893746098</td>\n",
       "      <td>68356216</td>\n",
       "      <td>-121737516</td>\n",
       "      <td>19437482834</td>\n",
       "    </tr>\n",
       "  </tbody>\n",
       "</table>\n",
       "</div>"
      ],
      "text/plain": [
       "      solar_invest_pred  wind_invest_pred  hydro_invest_pred  \\\n",
       "year                                                           \n",
       "2004          645787234        1130127659          155680851   \n",
       "2005          661771978        1186195054          307994505   \n",
       "2006          944401064        1711996450          323425022   \n",
       "2007         1633653483        2565969868          268775894   \n",
       "2008         1894727272        2312000000          234909090   \n",
       "2009         1537149270        1914231200          148911335   \n",
       "2010         3761084188        3688476386          294061601   \n",
       "2011         7039907539        3826728307          340860597   \n",
       "2012         4293970242        2577603758          195458104   \n",
       "2013         3333174061        2490784982          156723549   \n",
       "2014         4294750089        3238223660          191010427   \n",
       "2015         5589464915        4043165652          113937840   \n",
       "2016         5013546434        4275782123          115711219   \n",
       "2017         4470712860        4523159288          111994925   \n",
       "2018         5047972823        4777349087          108661585   \n",
       "2019         5761563982        5034701894          105301134   \n",
       "2020         5672652120        5293530772          101942625   \n",
       "2021         5510223332        5553051558           98583975   \n",
       "2022         5921350300        5812897948           95225336   \n",
       "2023         6422707513        6072898096           91866696   \n",
       "2024         6531953425        6332971076           88508056   \n",
       "2025         6594320358        6593078651           85149416   \n",
       "2026         6959975204        6853202701           81790776   \n",
       "2027         7381703263        7113334613           78432136   \n",
       "2028         7603116732        7373470285           75073496   \n",
       "2029         7804844549        7633607759           71714856   \n",
       "2030         8174715338        7893746098           68356216   \n",
       "\n",
       "      other_invest_pred  T_invest_pred  \n",
       "year                                    \n",
       "2004          778404255     2710000000  \n",
       "2005          869876373     3030000000  \n",
       "2006         1845678793     4860000000  \n",
       "2007         2188003766     6690000000  \n",
       "2008         1162181818     5610000000  \n",
       "2009          672502805     4280000000  \n",
       "2010         1089117043     8840000000  \n",
       "2011         1563413940    12780000000  \n",
       "2012          723805794     7800000000  \n",
       "2013          573720136     6560000000  \n",
       "2014          567062207     8300000000  \n",
       "2015          406920858    10160000000  \n",
       "2016          363610622    11237272471  \n",
       "2017          328380020     7142867113  \n",
       "2018          293715884     9866081977  \n",
       "2019          259091940    11487036374  \n",
       "2020          224470877    12590634628  \n",
       "2021          189850023    13451205429  \n",
       "2022          155229184    14197408627  \n",
       "2023          120608346    14889604917  \n",
       "2024           85987508    15556218981  \n",
       "2025           51366670    16210681486  \n",
       "2026           16745832    16859357539  \n",
       "2027          -17875005    17505271874  \n",
       "2028          -52495842    18149865386  \n",
       "2029          -87116679    18793826005  \n",
       "2030         -121737516    19437482834  "
      ]
     },
     "execution_count": 170,
     "metadata": {},
     "output_type": "execute_result"
    }
   ],
   "source": [
    "df_investent_future"
   ]
  },
  {
   "cell_type": "code",
   "execution_count": null,
   "metadata": {},
   "outputs": [],
   "source": []
  }
 ],
 "metadata": {
  "kernelspec": {
   "display_name": "Python 3",
   "language": "python",
   "name": "python3"
  },
  "language_info": {
   "codemirror_mode": {
    "name": "ipython",
    "version": 3
   },
   "file_extension": ".py",
   "mimetype": "text/x-python",
   "name": "python",
   "nbconvert_exporter": "python",
   "pygments_lexer": "ipython3",
   "version": "3.7.1"
  }
 },
 "nbformat": 4,
 "nbformat_minor": 2
}
