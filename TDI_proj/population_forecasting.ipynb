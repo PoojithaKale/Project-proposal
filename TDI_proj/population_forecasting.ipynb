{
 "cells": [
  {
   "cell_type": "code",
   "execution_count": 1,
   "metadata": {},
   "outputs": [],
   "source": [
    "import pandas as pd # import and manage datasets\n",
    "import numpy as np # mathematic library\n",
    "from statsmodels.graphics.tsaplots import plot_acf, plot_pacf\n",
    "import matplotlib.pyplot as plt\n",
    "from matplotlib import pyplot\n",
    "plt.rcParams.update({'figure.figsize':(9,7), 'figure.dpi':120})\n",
    "from statsmodels.tsa.arima_model import ARIMA"
   ]
  },
  {
   "cell_type": "code",
   "execution_count": 2,
   "metadata": {},
   "outputs": [],
   "source": [
    "df_population = pd.read_csv(\"Population_growth.csv\")"
   ]
  },
  {
   "cell_type": "code",
   "execution_count": 3,
   "metadata": {},
   "outputs": [],
   "source": [
    "df_population = df_population.loc[4:]"
   ]
  },
  {
   "cell_type": "code",
   "execution_count": 4,
   "metadata": {},
   "outputs": [],
   "source": [
    "df_population.rename(columns={'Data Source':'Country Name',\n",
    "                        'Unnamed: 4':'1960',\n",
    "                        'Unnamed: 5':'1961',\n",
    "                        'Unnamed: 6':'1962',\n",
    "                        'Unnamed: 7':'1963',\n",
    "                        'Unnamed: 8':'1964',\n",
    "                        'Unnamed: 9':'1965',\n",
    "                        'Unnamed: 10':'1966',\n",
    "                        'Unnamed: 11':'1967',\n",
    "                        'Unnamed: 12':'1968',\n",
    "                        'Unnamed: 13':'1969',\n",
    "                        'Unnamed: 14':'1970',\n",
    "                        'Unnamed: 15':'1971',\n",
    "                        'Unnamed: 16':'1972',\n",
    "                        'Unnamed: 17':'1973',\n",
    "                        'Unnamed: 18':'1974',\n",
    "                        'Unnamed: 19':'1975',\n",
    "                        'Unnamed: 20':'1976',\n",
    "                        'Unnamed: 21':'1977',\n",
    "                        'Unnamed: 22':'1978',\n",
    "                        'Unnamed: 23':'1979',\n",
    "                        'Unnamed: 24':'1980',\n",
    "                        'Unnamed: 25':'1981',\n",
    "                        'Unnamed: 26':'1982',\n",
    "                        'Unnamed: 27':'1983',\n",
    "                        'Unnamed: 28':'1984',\n",
    "                        'Unnamed: 29':'1985',\n",
    "                        'Unnamed: 30':'1986',\n",
    "                        'Unnamed: 31':'1987',\n",
    "                        'Unnamed: 32':'1988',\n",
    "                        'Unnamed: 33':'1989',\n",
    "                        'Unnamed: 34':'1990',\n",
    "                        'Unnamed: 35':'1991',\n",
    "                        'Unnamed: 36':'1992',\n",
    "                        'Unnamed: 37':'1993',\n",
    "                        'Unnamed: 38':'1994',\n",
    "                        'Unnamed: 39':'1995',\n",
    "                        'Unnamed: 40':'1996',\n",
    "                        'Unnamed: 41':'1997',\n",
    "                        'Unnamed: 42':'1998',\n",
    "                        'Unnamed: 43':'1999',\n",
    "                        'Unnamed: 44':'2000',\n",
    "                        'Unnamed: 45':'2001',\n",
    "                        'Unnamed: 46':'2002',\n",
    "                        'Unnamed: 47':'2003',\n",
    "                        'Unnamed: 48':'2004',\n",
    "                        'Unnamed: 49':'2005',\n",
    "                        'Unnamed: 50':'2006',\n",
    "                        'Unnamed: 51':'2007',\n",
    "                        'Unnamed: 52':'2008',\n",
    "                        'Unnamed: 53':'2009',\n",
    "                        'Unnamed: 54':'2010',\n",
    "                        'Unnamed: 55':'2011',\n",
    "                        'Unnamed: 56':'2012',\n",
    "                        'Unnamed: 57':'2013',\n",
    "                        'Unnamed: 58':'2014',\n",
    "                        'Unnamed: 59':'2015',\n",
    "                        'Unnamed: 60':'2016',\n",
    "                        'Unnamed: 61':'2017',\n",
    "                        'Unnamed: 62':'2018'},\n",
    "                 inplace=True)"
   ]
  },
  {
   "cell_type": "code",
   "execution_count": 5,
   "metadata": {},
   "outputs": [],
   "source": [
    "df_population = df_population.set_index('Country Name')"
   ]
  },
  {
   "cell_type": "code",
   "execution_count": 6,
   "metadata": {},
   "outputs": [],
   "source": [
    "df_population.to_excel(\"population_growth_new.xlsx\")"
   ]
  },
  {
   "cell_type": "code",
   "execution_count": 7,
   "metadata": {},
   "outputs": [],
   "source": [
    "z = list(df_population.loc['India'][3:])"
   ]
  },
  {
   "cell_type": "code",
   "execution_count": 8,
   "metadata": {},
   "outputs": [],
   "source": [
    "z = pd.DataFrame(z, columns = ['pop_value'])"
   ]
  },
  {
   "cell_type": "code",
   "execution_count": 9,
   "metadata": {},
   "outputs": [],
   "source": [
    "z['year'] = range(1960,2019)"
   ]
  },
  {
   "cell_type": "code",
   "execution_count": 10,
   "metadata": {},
   "outputs": [],
   "source": [
    "z1 = z.set_index('year')"
   ]
  },
  {
   "cell_type": "code",
   "execution_count": 11,
   "metadata": {},
   "outputs": [
    {
     "data": {
      "text/plain": [
       "59"
      ]
     },
     "execution_count": 11,
     "metadata": {},
     "output_type": "execute_result"
    }
   ],
   "source": [
    "len(z1)"
   ]
  },
  {
   "cell_type": "code",
   "execution_count": 12,
   "metadata": {},
   "outputs": [
    {
     "name": "stderr",
     "output_type": "stream",
     "text": [
      "C:\\Users\\pooji\\Anaconda3\\lib\\site-packages\\scipy\\signal\\signaltools.py:1344: FutureWarning: Using a non-tuple sequence for multidimensional indexing is deprecated; use `arr[tuple(seq)]` instead of `arr[seq]`. In the future this will be interpreted as an array index, `arr[np.array(seq)]`, which will result either in an error or a different result.\n",
      "  out = out_full[ind]\n"
     ]
    },
    {
     "name": "stdout",
     "output_type": "stream",
     "text": [
      "predicted=1233936398.639623, expected=1234281170.000000\n",
      "predicted=1250302665.809736, expected=1250288729.000000\n",
      "predicted=1265959462.128018, expected=1265782790.000000\n",
      "predicted=1281285336.630040, expected=1280846129.000000\n",
      "predicted=1296075564.858153, expected=1295604184.000000\n",
      "predicted=1310782370.309153, expected=1310152403.000000\n",
      "predicted=1325153375.394264, expected=1324509589.000000\n",
      "predicted=1339472562.486620, expected=1338658835.000000\n",
      "predicted=1353427794.852668, expected=1352617328.000000\n",
      "R^2: 0.9997936840017788\n"
     ]
    }
   ],
   "source": [
    "from sklearn import metrics\n",
    "\n",
    "X = z1.values\n",
    "X = [int(x) for x in X]\n",
    "train = X[:50]\n",
    "test = X[50:]\n",
    "history = [x for x in train]\n",
    "predictions = list()\n",
    "\n",
    "for t in range(len(test)):\n",
    "    model = ARIMA(history, order=(0,1,1))\n",
    "    model_fit = model.fit(disp=0)\n",
    "    output = model_fit.forecast()\n",
    "    yhat = output[0]\n",
    "    predictions.append(yhat)\n",
    "    obs = test[t]\n",
    "    history.append(obs)\n",
    "    print('predicted=%f, expected=%f' % (yhat, obs))\n",
    "print(\"R^2:\", metrics.r2_score(test, predictions))"
   ]
  },
  {
   "cell_type": "code",
   "execution_count": 13,
   "metadata": {},
   "outputs": [
    {
     "name": "stderr",
     "output_type": "stream",
     "text": [
      "C:\\Users\\pooji\\Anaconda3\\lib\\site-packages\\scipy\\signal\\signaltools.py:1344: FutureWarning: Using a non-tuple sequence for multidimensional indexing is deprecated; use `arr[tuple(seq)]` instead of `arr[seq]`. In the future this will be interpreted as an array index, `arr[np.array(seq)]`, which will result either in an error or a different result.\n",
      "  out = out_full[ind]\n"
     ]
    },
    {
     "data": {
      "image/png": "[encoded data removed]",
      "text/plain": [
       "<Figure size 432x288 with 1 Axes>"
      ]
     },
     "metadata": {
      "needs_background": "light"
     },
     "output_type": "display_data"
    }
   ],
   "source": [
    "X = z1.values\n",
    "X = [int(x) for x in X]\n",
    "history = [int(x) for x in X]\n",
    "predictions = list(history)\n",
    "\n",
    "for t in range(60,72):\n",
    "    model = ARIMA(history, order=(0,1,1))\n",
    "    model_fit = model.fit(disp=0)\n",
    "    output = model_fit.forecast()\n",
    "    yhat = int(output[0])\n",
    "    predictions.append(yhat)\n",
    "    history.append(yhat)\n",
    "# plot\n",
    "pyplot.plot(X)\n",
    "pyplot.plot(predictions, color='red', alpha=0.5)\n",
    "pyplot.show()"
   ]
  },
  {
   "cell_type": "code",
   "execution_count": 14,
   "metadata": {},
   "outputs": [],
   "source": [
    "pop_pred = pd.DataFrame(predictions, columns = ['pop_pred'])"
   ]
  },
  {
   "cell_type": "code",
   "execution_count": 15,
   "metadata": {},
   "outputs": [
    {
     "data": {
      "text/plain": [
       "71"
      ]
     },
     "execution_count": 15,
     "metadata": {},
     "output_type": "execute_result"
    }
   ],
   "source": [
    "len(pop_pred)"
   ]
  },
  {
   "cell_type": "code",
   "execution_count": 16,
   "metadata": {},
   "outputs": [],
   "source": [
    "pop_pred['Year'] = list(range(1960,2031))"
   ]
  },
  {
   "cell_type": "code",
   "execution_count": 17,
   "metadata": {},
   "outputs": [],
   "source": [
    "pop_pred.to_excel(\"population_growth_forecast_1960-2030_India.xlsx\")"
   ]
  }
 ],
 "metadata": {
  "kernelspec": {
   "display_name": "Python 3",
   "language": "python",
   "name": "python3"
  },
  "language_info": {
   "codemirror_mode": {
    "name": "ipython",
    "version": 3
   },
   "file_extension": ".py",
   "mimetype": "text/x-python",
   "name": "python",
   "nbconvert_exporter": "python",
   "pygments_lexer": "ipython3",
   "version": "3.7.1"
  }
 },
 "nbformat": 4,
 "nbformat_minor": 2
}
