{
 "cells": [
  {
   "cell_type": "code",
   "execution_count": 28,
   "metadata": {},
   "outputs": [],
   "source": [
    "# what 100% access to electricity will look like in 2030"
   ]
  },
  {
   "cell_type": "code",
   "execution_count": 29,
   "metadata": {},
   "outputs": [],
   "source": [
    "import pandas as pd # import and manage datasets\n",
    "import numpy as np # mathematic library"
   ]
  },
  {
   "cell_type": "code",
   "execution_count": 30,
   "metadata": {},
   "outputs": [],
   "source": [
    "# what cent electricity in India looks like\n",
    "India_energy = pd.read_excel(\"cent_elec_1993-2017.xlsx\")"
   ]
  },
  {
   "cell_type": "code",
   "execution_count": 31,
   "metadata": {},
   "outputs": [],
   "source": [
    "India_energy = India_energy.set_index('Year')"
   ]
  },
  {
   "cell_type": "code",
   "execution_count": 32,
   "metadata": {},
   "outputs": [
    {
     "data": {
      "text/html": [
       "<div>\n",
       "<style scoped>\n",
       "    .dataframe tbody tr th:only-of-type {\n",
       "        vertical-align: middle;\n",
       "    }\n",
       "\n",
       "    .dataframe tbody tr th {\n",
       "        vertical-align: top;\n",
       "    }\n",
       "\n",
       "    .dataframe thead th {\n",
       "        text-align: right;\n",
       "    }\n",
       "</style>\n",
       "<table border=\"1\" class=\"dataframe\">\n",
       "  <thead>\n",
       "    <tr style=\"text-align: right;\">\n",
       "      <th></th>\n",
       "      <th>Energy_con</th>\n",
       "      <th>Percentage_access</th>\n",
       "      <th>Population</th>\n",
       "      <th>cent_access</th>\n",
       "    </tr>\n",
       "    <tr>\n",
       "      <th>Year</th>\n",
       "      <th></th>\n",
       "      <th></th>\n",
       "      <th></th>\n",
       "      <th></th>\n",
       "    </tr>\n",
       "  </thead>\n",
       "  <tbody>\n",
       "    <tr>\n",
       "      <th>1993</th>\n",
       "      <td>222.645002</td>\n",
       "      <td>50.900000</td>\n",
       "      <td>909307016</td>\n",
       "      <td>437.416508</td>\n",
       "    </tr>\n",
       "    <tr>\n",
       "      <th>1994</th>\n",
       "      <td>234.439233</td>\n",
       "      <td>49.815136</td>\n",
       "      <td>927403860</td>\n",
       "      <td>470.618476</td>\n",
       "    </tr>\n",
       "    <tr>\n",
       "      <th>1995</th>\n",
       "      <td>252.180017</td>\n",
       "      <td>51.398556</td>\n",
       "      <td>945601831</td>\n",
       "      <td>490.636388</td>\n",
       "    </tr>\n",
       "    <tr>\n",
       "      <th>1996</th>\n",
       "      <td>262.524797</td>\n",
       "      <td>52.985596</td>\n",
       "      <td>963922588</td>\n",
       "      <td>495.464463</td>\n",
       "    </tr>\n",
       "    <tr>\n",
       "      <th>1997</th>\n",
       "      <td>277.143608</td>\n",
       "      <td>54.577168</td>\n",
       "      <td>982365243</td>\n",
       "      <td>507.801376</td>\n",
       "    </tr>\n",
       "    <tr>\n",
       "      <th>1998</th>\n",
       "      <td>293.718679</td>\n",
       "      <td>56.173199</td>\n",
       "      <td>1000900030</td>\n",
       "      <td>522.880459</td>\n",
       "    </tr>\n",
       "    <tr>\n",
       "      <th>1999</th>\n",
       "      <td>301.684249</td>\n",
       "      <td>60.100000</td>\n",
       "      <td>1019483581</td>\n",
       "      <td>501.970464</td>\n",
       "    </tr>\n",
       "    <tr>\n",
       "      <th>2000</th>\n",
       "      <td>317.536857</td>\n",
       "      <td>59.361851</td>\n",
       "      <td>1038058156</td>\n",
       "      <td>534.917381</td>\n",
       "    </tr>\n",
       "    <tr>\n",
       "      <th>2001</th>\n",
       "      <td>319.346376</td>\n",
       "      <td>55.800000</td>\n",
       "      <td>1056575549</td>\n",
       "      <td>572.305333</td>\n",
       "    </tr>\n",
       "    <tr>\n",
       "      <th>2002</th>\n",
       "      <td>334.305749</td>\n",
       "      <td>62.300000</td>\n",
       "      <td>1075000085</td>\n",
       "      <td>536.606338</td>\n",
       "    </tr>\n",
       "    <tr>\n",
       "      <th>2003</th>\n",
       "      <td>347.329780</td>\n",
       "      <td>64.062386</td>\n",
       "      <td>1093317189</td>\n",
       "      <td>542.174284</td>\n",
       "    </tr>\n",
       "    <tr>\n",
       "      <th>2004</th>\n",
       "      <td>367.767656</td>\n",
       "      <td>64.400000</td>\n",
       "      <td>1111523144</td>\n",
       "      <td>571.067789</td>\n",
       "    </tr>\n",
       "    <tr>\n",
       "      <th>2005</th>\n",
       "      <td>395.119424</td>\n",
       "      <td>67.086693</td>\n",
       "      <td>1129623456</td>\n",
       "      <td>588.968405</td>\n",
       "    </tr>\n",
       "    <tr>\n",
       "      <th>2006</th>\n",
       "      <td>415.437576</td>\n",
       "      <td>67.900000</td>\n",
       "      <td>1147609927</td>\n",
       "      <td>611.837373</td>\n",
       "    </tr>\n",
       "    <tr>\n",
       "      <th>2007</th>\n",
       "      <td>451.893499</td>\n",
       "      <td>70.052116</td>\n",
       "      <td>1165486291</td>\n",
       "      <td>645.081866</td>\n",
       "    </tr>\n",
       "    <tr>\n",
       "      <th>2008</th>\n",
       "      <td>477.864921</td>\n",
       "      <td>71.545509</td>\n",
       "      <td>1183209472</td>\n",
       "      <td>667.917421</td>\n",
       "    </tr>\n",
       "    <tr>\n",
       "      <th>2009</th>\n",
       "      <td>514.281940</td>\n",
       "      <td>75.000000</td>\n",
       "      <td>1200669765</td>\n",
       "      <td>685.709254</td>\n",
       "    </tr>\n",
       "    <tr>\n",
       "      <th>2010</th>\n",
       "      <td>539.152553</td>\n",
       "      <td>76.300000</td>\n",
       "      <td>1217726215</td>\n",
       "      <td>706.621957</td>\n",
       "    </tr>\n",
       "    <tr>\n",
       "      <th>2011</th>\n",
       "      <td>571.373058</td>\n",
       "      <td>67.600000</td>\n",
       "      <td>1234281170</td>\n",
       "      <td>845.226418</td>\n",
       "    </tr>\n",
       "    <tr>\n",
       "      <th>2012</th>\n",
       "      <td>601.043621</td>\n",
       "      <td>79.900000</td>\n",
       "      <td>1250288729</td>\n",
       "      <td>752.244833</td>\n",
       "    </tr>\n",
       "    <tr>\n",
       "      <th>2013</th>\n",
       "      <td>624.522137</td>\n",
       "      <td>80.874756</td>\n",
       "      <td>1265782790</td>\n",
       "      <td>772.208992</td>\n",
       "    </tr>\n",
       "    <tr>\n",
       "      <th>2014</th>\n",
       "      <td>667.518630</td>\n",
       "      <td>83.620110</td>\n",
       "      <td>1280846129</td>\n",
       "      <td>798.275239</td>\n",
       "    </tr>\n",
       "    <tr>\n",
       "      <th>2015</th>\n",
       "      <td>689.777879</td>\n",
       "      <td>88.000000</td>\n",
       "      <td>1295604184</td>\n",
       "      <td>783.838498</td>\n",
       "    </tr>\n",
       "    <tr>\n",
       "      <th>2016</th>\n",
       "      <td>719.252335</td>\n",
       "      <td>89.645859</td>\n",
       "      <td>1310152403</td>\n",
       "      <td>802.326338</td>\n",
       "    </tr>\n",
       "    <tr>\n",
       "      <th>2017</th>\n",
       "      <td>750.087830</td>\n",
       "      <td>92.618660</td>\n",
       "      <td>1324509589</td>\n",
       "      <td>809.866856</td>\n",
       "    </tr>\n",
       "  </tbody>\n",
       "</table>\n",
       "</div>"
      ],
      "text/plain": [
       "      Energy_con  Percentage_access  Population  cent_access\n",
       "Year                                                        \n",
       "1993  222.645002          50.900000   909307016   437.416508\n",
       "1994  234.439233          49.815136   927403860   470.618476\n",
       "1995  252.180017          51.398556   945601831   490.636388\n",
       "1996  262.524797          52.985596   963922588   495.464463\n",
       "1997  277.143608          54.577168   982365243   507.801376\n",
       "1998  293.718679          56.173199  1000900030   522.880459\n",
       "1999  301.684249          60.100000  1019483581   501.970464\n",
       "2000  317.536857          59.361851  1038058156   534.917381\n",
       "2001  319.346376          55.800000  1056575549   572.305333\n",
       "2002  334.305749          62.300000  1075000085   536.606338\n",
       "2003  347.329780          64.062386  1093317189   542.174284\n",
       "2004  367.767656          64.400000  1111523144   571.067789\n",
       "2005  395.119424          67.086693  1129623456   588.968405\n",
       "2006  415.437576          67.900000  1147609927   611.837373\n",
       "2007  451.893499          70.052116  1165486291   645.081866\n",
       "2008  477.864921          71.545509  1183209472   667.917421\n",
       "2009  514.281940          75.000000  1200669765   685.709254\n",
       "2010  539.152553          76.300000  1217726215   706.621957\n",
       "2011  571.373058          67.600000  1234281170   845.226418\n",
       "2012  601.043621          79.900000  1250288729   752.244833\n",
       "2013  624.522137          80.874756  1265782790   772.208992\n",
       "2014  667.518630          83.620110  1280846129   798.275239\n",
       "2015  689.777879          88.000000  1295604184   783.838498\n",
       "2016  719.252335          89.645859  1310152403   802.326338\n",
       "2017  750.087830          92.618660  1324509589   809.866856"
      ]
     },
     "execution_count": 32,
     "metadata": {},
     "output_type": "execute_result"
    }
   ],
   "source": [
    "India_energy"
   ]
  },
  {
   "cell_type": "code",
   "execution_count": 33,
   "metadata": {},
   "outputs": [],
   "source": [
    "pop_growth = pd.read_excel(\"population_growth_forecast_1960-2030_India.xlsx\")"
   ]
  },
  {
   "cell_type": "code",
   "execution_count": 34,
   "metadata": {},
   "outputs": [],
   "source": [
    "pop_growth = pop_growth.set_index('Year')"
   ]
  },
  {
   "cell_type": "code",
   "execution_count": 35,
   "metadata": {},
   "outputs": [],
   "source": [
    "K = list(pop_growth['pop_pred'][57:])"
   ]
  },
  {
   "cell_type": "code",
   "execution_count": 36,
   "metadata": {},
   "outputs": [],
   "source": [
    "index=list(range(24,38))"
   ]
  },
  {
   "cell_type": "code",
   "execution_count": 37,
   "metadata": {},
   "outputs": [
    {
     "data": {
      "text/plain": [
       "[24, 25, 26, 27, 28, 29, 30, 31, 32, 33, 34, 35, 36, 37]"
      ]
     },
     "execution_count": 37,
     "metadata": {},
     "output_type": "execute_result"
    }
   ],
   "source": [
    "index"
   ]
  },
  {
   "cell_type": "code",
   "execution_count": 38,
   "metadata": {},
   "outputs": [],
   "source": [
    "forcast_X1 = pd.DataFrame(list(range(2017,2031)), columns = ['Year'], index = index)"
   ]
  },
  {
   "cell_type": "code",
   "execution_count": 39,
   "metadata": {},
   "outputs": [],
   "source": [
    "forcast_X1['Population'] = list(pop_growth['pop_pred'][57:])"
   ]
  },
  {
   "cell_type": "code",
   "execution_count": 40,
   "metadata": {},
   "outputs": [],
   "source": [
    "# input is year,populatiion, output is cent_access\n",
    "X1 = pd.DataFrame(list(range(1993,2018)), columns = ['Year'])\n",
    "X1['Population'] = list(India_energy['Population'])\n",
    "Y1 = India_energy['cent_access']"
   ]
  },
  {
   "cell_type": "code",
   "execution_count": 41,
   "metadata": {},
   "outputs": [],
   "source": [
    "X1_train = X1[:20]\n",
    "X1_test = X1[20:]\n",
    "Y1_train = Y1[:20]\n",
    "Y1_test = Y1[20:]"
   ]
  },
  {
   "cell_type": "code",
   "execution_count": 42,
   "metadata": {},
   "outputs": [
    {
     "name": "stderr",
     "output_type": "stream",
     "text": [
      "C:\\Users\\pooji\\Anaconda3\\lib\\site-packages\\sklearn\\linear_model\\ridge.py:125: LinAlgWarning: scipy.linalg.solve\n",
      "Ill-conditioned matrix detected. Result is not guaranteed to be accurate.\n",
      "Reciprocal condition number1.219448e-17\n",
      "  overwrite_a=True).T\n"
     ]
    },
    {
     "data": {
      "text/plain": [
       "Ridge(alpha=2.51, copy_X=True, fit_intercept=True, max_iter=None,\n",
       "   normalize=False, random_state=None, solver='auto', tol=0.001)"
      ]
     },
     "execution_count": 42,
     "metadata": {},
     "output_type": "execute_result"
    }
   ],
   "source": [
    "from sklearn.linear_model import Ridge\n",
    "\n",
    "elec_pred = Ridge(alpha = 2.51)\n",
    "elec_pred.fit(X1_train,Y1_train)"
   ]
  },
  {
   "cell_type": "code",
   "execution_count": 43,
   "metadata": {},
   "outputs": [
    {
     "name": "stdout",
     "output_type": "stream",
     "text": [
      "R^2: 0.6100791008028612\n"
     ]
    }
   ],
   "source": [
    "y1_pred = elec_pred.predict(X1_test)\n",
    "from sklearn import metrics\n",
    "print(\"R^2:\", metrics.r2_score(y1_pred, Y1_test))"
   ]
  },
  {
   "cell_type": "code",
   "execution_count": 44,
   "metadata": {},
   "outputs": [],
   "source": [
    "y2_pred = elec_pred.predict(forcast_X1)"
   ]
  },
  {
   "cell_type": "code",
   "execution_count": 46,
   "metadata": {},
   "outputs": [
    {
     "data": {
      "image/png": "[encoded data removed]",
      "text/plain": [
       "<Figure size 432x288 with 1 Axes>"
      ]
     },
     "metadata": {
      "needs_background": "light"
     },
     "output_type": "display_data"
    }
   ],
   "source": [
    "import matplotlib.pyplot as plt\n",
    "plt.plot(X1['Year'], Y1, label='training data')\n",
    "plt.plot(X1_test['Year'], y1_pred, label='test_predict data')\n",
    "plt.plot(forcast_X1['Year'], y2_pred, '--', label='model prediction')\n",
    "plt.legend()\n",
    "plt.show()"
   ]
  },
  {
   "cell_type": "code",
   "execution_count": null,
   "metadata": {},
   "outputs": [],
   "source": []
  }
 ],
 "metadata": {
  "kernelspec": {
   "display_name": "Python 3",
   "language": "python",
   "name": "python3"
  },
  "language_info": {
   "codemirror_mode": {
    "name": "ipython",
    "version": 3
   },
   "file_extension": ".py",
   "mimetype": "text/x-python",
   "name": "python",
   "nbconvert_exporter": "python",
   "pygments_lexer": "ipython3",
   "version": "3.7.1"
  }
 },
 "nbformat": 4,
 "nbformat_minor": 2
}
