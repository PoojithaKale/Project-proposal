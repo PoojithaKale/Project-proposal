{
 "cells": [
  {
   "cell_type": "code",
   "execution_count": 152,
   "metadata": {},
   "outputs": [],
   "source": [
    "import pandas as pd # import and manage datasets\n",
    "import numpy as np # mathematic library\n",
    "from statsmodels.tsa.arima_model import ARIMA"
   ]
  },
  {
   "cell_type": "code",
   "execution_count": 153,
   "metadata": {},
   "outputs": [],
   "source": [
    "NRE_world = pd.read_excel('Total_Energy_Consumption_1965-2018.xlsx')"
   ]
  },
  {
   "cell_type": "code",
   "execution_count": 154,
   "metadata": {},
   "outputs": [],
   "source": [
    "NRE_world = NRE_world.set_index('Total Energy')"
   ]
  },
  {
   "cell_type": "code",
   "execution_count": 155,
   "metadata": {},
   "outputs": [
    {
     "data": {
      "text/html": [
       "<div>\n",
       "<style scoped>\n",
       "    .dataframe tbody tr th:only-of-type {\n",
       "        vertical-align: middle;\n",
       "    }\n",
       "\n",
       "    .dataframe tbody tr th {\n",
       "        vertical-align: top;\n",
       "    }\n",
       "\n",
       "    .dataframe thead th {\n",
       "        text-align: right;\n",
       "    }\n",
       "</style>\n",
       "<table border=\"1\" class=\"dataframe\">\n",
       "  <thead>\n",
       "    <tr style=\"text-align: right;\">\n",
       "      <th></th>\n",
       "      <th>index</th>\n",
       "      <th>1965</th>\n",
       "      <th>1966</th>\n",
       "      <th>1967</th>\n",
       "      <th>1968</th>\n",
       "      <th>1969</th>\n",
       "      <th>1970</th>\n",
       "      <th>1971</th>\n",
       "      <th>1972</th>\n",
       "      <th>1973</th>\n",
       "      <th>...</th>\n",
       "      <th>2014</th>\n",
       "      <th>2015</th>\n",
       "      <th>2016</th>\n",
       "      <th>2017</th>\n",
       "      <th>2018</th>\n",
       "      <th>Unnamed: 55</th>\n",
       "      <th>Unnamed: 56</th>\n",
       "      <th>Unnamed: 57</th>\n",
       "      <th>Unnamed: 58</th>\n",
       "      <th>Contents.1</th>\n",
       "    </tr>\n",
       "    <tr>\n",
       "      <th>Total Energy</th>\n",
       "      <th></th>\n",
       "      <th></th>\n",
       "      <th></th>\n",
       "      <th></th>\n",
       "      <th></th>\n",
       "      <th></th>\n",
       "      <th></th>\n",
       "      <th></th>\n",
       "      <th></th>\n",
       "      <th></th>\n",
       "      <th></th>\n",
       "      <th></th>\n",
       "      <th></th>\n",
       "      <th></th>\n",
       "      <th></th>\n",
       "      <th></th>\n",
       "      <th></th>\n",
       "      <th></th>\n",
       "      <th></th>\n",
       "      <th></th>\n",
       "      <th></th>\n",
       "    </tr>\n",
       "  </thead>\n",
       "  <tbody>\n",
       "    <tr>\n",
       "      <th>Canada</th>\n",
       "      <td>3</td>\n",
       "      <td>115.910849</td>\n",
       "      <td>122.991657</td>\n",
       "      <td>129.026541</td>\n",
       "      <td>137.695457</td>\n",
       "      <td>145.303023</td>\n",
       "      <td>155.587992</td>\n",
       "      <td>159.794037</td>\n",
       "      <td>170.698240</td>\n",
       "      <td>181.241163</td>\n",
       "      <td>...</td>\n",
       "      <td>341.813863</td>\n",
       "      <td>339.043046</td>\n",
       "      <td>338.223484</td>\n",
       "      <td>343.696739</td>\n",
       "      <td>344.424157</td>\n",
       "      <td>0.002116</td>\n",
       "      <td>0.006524</td>\n",
       "      <td>0.024841</td>\n",
       "      <td>NaN</td>\n",
       "      <td>NaN</td>\n",
       "    </tr>\n",
       "    <tr>\n",
       "      <th>Mexico</th>\n",
       "      <td>4</td>\n",
       "      <td>24.972964</td>\n",
       "      <td>26.432788</td>\n",
       "      <td>26.922222</td>\n",
       "      <td>29.291127</td>\n",
       "      <td>32.196346</td>\n",
       "      <td>34.320386</td>\n",
       "      <td>36.094722</td>\n",
       "      <td>39.916724</td>\n",
       "      <td>43.065295</td>\n",
       "      <td>...</td>\n",
       "      <td>184.141764</td>\n",
       "      <td>183.970404</td>\n",
       "      <td>186.358373</td>\n",
       "      <td>189.300608</td>\n",
       "      <td>186.913820</td>\n",
       "      <td>-0.012608</td>\n",
       "      <td>0.012453</td>\n",
       "      <td>0.013481</td>\n",
       "      <td>NaN</td>\n",
       "      <td>NaN</td>\n",
       "    </tr>\n",
       "    <tr>\n",
       "      <th>US</th>\n",
       "      <td>5</td>\n",
       "      <td>1249.642424</td>\n",
       "      <td>1320.037950</td>\n",
       "      <td>1365.733676</td>\n",
       "      <td>1448.932114</td>\n",
       "      <td>1526.191928</td>\n",
       "      <td>1577.850993</td>\n",
       "      <td>1610.270681</td>\n",
       "      <td>1692.888180</td>\n",
       "      <td>1762.245098</td>\n",
       "      <td>...</td>\n",
       "      <td>2232.931428</td>\n",
       "      <td>2213.209941</td>\n",
       "      <td>2212.662102</td>\n",
       "      <td>2222.480694</td>\n",
       "      <td>2300.640296</td>\n",
       "      <td>0.035168</td>\n",
       "      <td>-0.004035</td>\n",
       "      <td>0.165933</td>\n",
       "      <td>NaN</td>\n",
       "      <td>NaN</td>\n",
       "    </tr>\n",
       "    <tr>\n",
       "      <th>Argentina</th>\n",
       "      <td>8</td>\n",
       "      <td>26.914442</td>\n",
       "      <td>27.809713</td>\n",
       "      <td>28.635373</td>\n",
       "      <td>29.623572</td>\n",
       "      <td>30.644712</td>\n",
       "      <td>28.937326</td>\n",
       "      <td>30.747979</td>\n",
       "      <td>31.299226</td>\n",
       "      <td>32.626256</td>\n",
       "      <td>...</td>\n",
       "      <td>84.127455</td>\n",
       "      <td>86.098900</td>\n",
       "      <td>85.917292</td>\n",
       "      <td>86.103674</td>\n",
       "      <td>85.052439</td>\n",
       "      <td>-0.012209</td>\n",
       "      <td>0.016172</td>\n",
       "      <td>0.006134</td>\n",
       "      <td>NaN</td>\n",
       "      <td>NaN</td>\n",
       "    </tr>\n",
       "    <tr>\n",
       "      <th>Brazil</th>\n",
       "      <td>9</td>\n",
       "      <td>22.486225</td>\n",
       "      <td>24.529219</td>\n",
       "      <td>25.404553</td>\n",
       "      <td>29.122828</td>\n",
       "      <td>31.813745</td>\n",
       "      <td>37.369778</td>\n",
       "      <td>40.871057</td>\n",
       "      <td>47.072428</td>\n",
       "      <td>56.155980</td>\n",
       "      <td>...</td>\n",
       "      <td>299.386207</td>\n",
       "      <td>295.949648</td>\n",
       "      <td>289.439294</td>\n",
       "      <td>293.888754</td>\n",
       "      <td>297.595143</td>\n",
       "      <td>0.012612</td>\n",
       "      <td>0.025151</td>\n",
       "      <td>0.021464</td>\n",
       "      <td>NaN</td>\n",
       "      <td>NaN</td>\n",
       "    </tr>\n",
       "  </tbody>\n",
       "</table>\n",
       "<p>5 rows × 60 columns</p>\n",
       "</div>"
      ],
      "text/plain": [
       "              index         1965         1966         1967         1968  \\\n",
       "Total Energy                                                              \n",
       "Canada            3   115.910849   122.991657   129.026541   137.695457   \n",
       "Mexico            4    24.972964    26.432788    26.922222    29.291127   \n",
       "US                5  1249.642424  1320.037950  1365.733676  1448.932114   \n",
       "Argentina         8    26.914442    27.809713    28.635373    29.623572   \n",
       "Brazil            9    22.486225    24.529219    25.404553    29.122828   \n",
       "\n",
       "                     1969         1970         1971         1972         1973  \\\n",
       "Total Energy                                                                    \n",
       "Canada         145.303023   155.587992   159.794037   170.698240   181.241163   \n",
       "Mexico          32.196346    34.320386    36.094722    39.916724    43.065295   \n",
       "US            1526.191928  1577.850993  1610.270681  1692.888180  1762.245098   \n",
       "Argentina       30.644712    28.937326    30.747979    31.299226    32.626256   \n",
       "Brazil          31.813745    37.369778    40.871057    47.072428    56.155980   \n",
       "\n",
       "                 ...             2014         2015         2016         2017  \\\n",
       "Total Energy     ...                                                           \n",
       "Canada           ...       341.813863   339.043046   338.223484   343.696739   \n",
       "Mexico           ...       184.141764   183.970404   186.358373   189.300608   \n",
       "US               ...      2232.931428  2213.209941  2212.662102  2222.480694   \n",
       "Argentina        ...        84.127455    86.098900    85.917292    86.103674   \n",
       "Brazil           ...       299.386207   295.949648   289.439294   293.888754   \n",
       "\n",
       "                     2018  Unnamed: 55  Unnamed: 56  Unnamed: 57  Unnamed: 58  \\\n",
       "Total Energy                                                                    \n",
       "Canada         344.424157     0.002116     0.006524     0.024841          NaN   \n",
       "Mexico         186.913820    -0.012608     0.012453     0.013481          NaN   \n",
       "US            2300.640296     0.035168    -0.004035     0.165933          NaN   \n",
       "Argentina       85.052439    -0.012209     0.016172     0.006134          NaN   \n",
       "Brazil         297.595143     0.012612     0.025151     0.021464          NaN   \n",
       "\n",
       "              Contents.1  \n",
       "Total Energy              \n",
       "Canada               NaN  \n",
       "Mexico               NaN  \n",
       "US                   NaN  \n",
       "Argentina            NaN  \n",
       "Brazil               NaN  \n",
       "\n",
       "[5 rows x 60 columns]"
      ]
     },
     "execution_count": 155,
     "metadata": {},
     "output_type": "execute_result"
    }
   ],
   "source": [
    "NRE_world.head()"
   ]
  },
  {
   "cell_type": "code",
   "execution_count": 98,
   "metadata": {},
   "outputs": [
    {
     "data": {
      "text/plain": [
       "1993    222.645002\n",
       "1994    234.439233\n",
       "1995    252.180017\n",
       "1996    262.524797\n",
       "1997    277.143608\n",
       "1998    293.718679\n",
       "1999    301.684249\n",
       "2000    317.536857\n",
       "2001    319.346376\n",
       "2002    334.305749\n",
       "2003    347.329780\n",
       "2004    367.767656\n",
       "2005    395.119424\n",
       "2006    415.437576\n",
       "2007    451.893499\n",
       "2008    477.864921\n",
       "2009    514.281940\n",
       "2010    539.152553\n",
       "2011    571.373058\n",
       "2012    601.043621\n",
       "2013    624.522137\n",
       "2014    667.518630\n",
       "2015    689.777879\n",
       "2016    719.252335\n",
       "2017    750.087830\n",
       "2018    809.153006\n",
       "Name: India, dtype: float64"
      ]
     },
     "execution_count": 98,
     "metadata": {},
     "output_type": "execute_result"
    }
   ],
   "source": [
    "NRE_world.loc['India'][29:-5]"
   ]
  },
  {
   "cell_type": "code",
   "execution_count": 99,
   "metadata": {},
   "outputs": [],
   "source": [
    "NRE_India = list(NRE_world.loc['India'][29:-6])"
   ]
  },
  {
   "cell_type": "code",
   "execution_count": 100,
   "metadata": {},
   "outputs": [],
   "source": [
    "pop_growth = pd.read_excel(\"population_growth_forecast_1960-2030_India.xlsx\")\n",
    "pop_growth = pop_growth.set_index('Year')"
   ]
  },
  {
   "cell_type": "code",
   "execution_count": 101,
   "metadata": {},
   "outputs": [],
   "source": [
    "India_energy = pd.read_excel(\"cent_elec_1993-2017.xlsx\")\n",
    "India_energy = India_energy.set_index('Year')"
   ]
  },
  {
   "cell_type": "code",
   "execution_count": 102,
   "metadata": {},
   "outputs": [],
   "source": [
    "# input is year,populatiion, output is cent_access\n",
    "X1 = pd.DataFrame(list(range(1993,2018)), columns = ['Year'])\n",
    "X1['Population'] = list(India_energy['Population'])\n",
    "Y1 = NRE_India"
   ]
  },
  {
   "cell_type": "code",
   "execution_count": 112,
   "metadata": {},
   "outputs": [
    {
     "data": {
      "text/plain": [
       "[<matplotlib.lines.Line2D at 0x29e22f75b70>]"
      ]
     },
     "execution_count": 112,
     "metadata": {},
     "output_type": "execute_result"
    },
    {
     "data": {
      "image/png": "[encoded data removed]",
      "text/plain": [
       "<Figure size 432x288 with 1 Axes>"
      ]
     },
     "metadata": {
      "needs_background": "light"
     },
     "output_type": "display_data"
    }
   ],
   "source": [
    "plt.plot(X1['Year'], Y1)"
   ]
  },
  {
   "cell_type": "code",
   "execution_count": 105,
   "metadata": {},
   "outputs": [],
   "source": [
    "X1_train = X1[:20]\n",
    "X1_test = X1[20:]\n",
    "Y1_train = Y1[:20]\n",
    "Y1_test = Y1[20:]"
   ]
  },
  {
   "cell_type": "code",
   "execution_count": 132,
   "metadata": {},
   "outputs": [
    {
     "name": "stderr",
     "output_type": "stream",
     "text": [
      "C:\\Users\\pooji\\Anaconda3\\lib\\site-packages\\sklearn\\linear_model\\ridge.py:125: LinAlgWarning: scipy.linalg.solve\n",
      "Ill-conditioned matrix detected. Result is not guaranteed to be accurate.\n",
      "Reciprocal condition number1.648920e-18\n",
      "  overwrite_a=True).T\n"
     ]
    },
    {
     "data": {
      "text/plain": [
       "Ridge(alpha=0.21, copy_X=True, fit_intercept=True, max_iter=None,\n",
       "   normalize=False, random_state=None, solver='auto', tol=0.001)"
      ]
     },
     "execution_count": 132,
     "metadata": {},
     "output_type": "execute_result"
    }
   ],
   "source": [
    "from sklearn.linear_model import Ridge\n",
    "from sklearn import metrics\n",
    "\n",
    "elec_pred = Ridge(alpha = 0.21)\n",
    "elec_pred.fit(X1_train,Y1_train)"
   ]
  },
  {
   "cell_type": "code",
   "execution_count": 133,
   "metadata": {},
   "outputs": [
    {
     "name": "stdout",
     "output_type": "stream",
     "text": [
      "R^2: 0.9495664114150704\n"
     ]
    }
   ],
   "source": [
    "y1_pred = elec_pred.predict(X1_test)\n",
    "print(\"R^2:\", metrics.r2_score(y1_pred, Y1_test))"
   ]
  },
  {
   "cell_type": "code",
   "execution_count": 143,
   "metadata": {},
   "outputs": [],
   "source": [
    "forcast_X1 = pd.DataFrame(list(range(2017,2031)), columns = ['Year'], index = list(range(24,38)))\n",
    "forcast_X1['Population'] = list(pop_growth['pop_pred'][57:])"
   ]
  },
  {
   "cell_type": "code",
   "execution_count": 144,
   "metadata": {},
   "outputs": [],
   "source": [
    "y2_pred = elec_pred.predict(forcast_X1)"
   ]
  },
  {
   "cell_type": "code",
   "execution_count": 145,
   "metadata": {},
   "outputs": [
    {
     "data": {
      "image/png": "[encoded data removed]",
      "text/plain": [
       "<Figure size 432x288 with 1 Axes>"
      ]
     },
     "metadata": {
      "needs_background": "light"
     },
     "output_type": "display_data"
    }
   ],
   "source": [
    "plt.plot(X1['Year'], Y1, label='training data')\n",
    "plt.plot(X1_test['Year'], y1_pred, label='test_predict data')\n",
    "plt.plot(forcast_X1['Year'], y2_pred, '--', label='model prediction')\n",
    "plt.legend()\n",
    "plt.title('Energy demands')\n",
    "plt.show()"
   ]
  },
  {
   "cell_type": "code",
   "execution_count": 146,
   "metadata": {},
   "outputs": [],
   "source": [
    "NRE_demand = NRE_India\n",
    "for i in range(1,len(y2_pred)):\n",
    "    NRE_demand.append(y2_pred[i])"
   ]
  },
  {
   "cell_type": "code",
   "execution_count": 147,
   "metadata": {},
   "outputs": [],
   "source": [
    "NRE_India_pred = pd.DataFrame(NRE_demand, columns= ['NRE_pred'])"
   ]
  },
  {
   "cell_type": "code",
   "execution_count": 149,
   "metadata": {},
   "outputs": [],
   "source": [
    "NRE_India_pred['Year'] = list(range(1993,2031))"
   ]
  },
  {
   "cell_type": "code",
   "execution_count": 150,
   "metadata": {},
   "outputs": [],
   "source": [
    "NRE_India_pred= NRE_India_pred.set_index('Year')"
   ]
  },
  {
   "cell_type": "code",
   "execution_count": 151,
   "metadata": {},
   "outputs": [],
   "source": [
    "NRE_India_pred.to_excel('NRE_India_Forecast.xlsx')"
   ]
  },
  {
   "cell_type": "code",
   "execution_count": null,
   "metadata": {},
   "outputs": [],
   "source": []
  }
 ],
 "metadata": {
  "kernelspec": {
   "display_name": "Python 3",
   "language": "python",
   "name": "python3"
  },
  "language_info": {
   "codemirror_mode": {
    "name": "ipython",
    "version": 3
   },
   "file_extension": ".py",
   "mimetype": "text/x-python",
   "name": "python",
   "nbconvert_exporter": "python",
   "pygments_lexer": "ipython3",
   "version": "3.7.1"
  }
 },
 "nbformat": 4,
 "nbformat_minor": 2
}
