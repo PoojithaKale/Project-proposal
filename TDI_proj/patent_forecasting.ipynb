{
 "cells": [
  {
   "cell_type": "code",
   "execution_count": 1,
   "metadata": {},
   "outputs": [],
   "source": [
    "import pandas as pd # import and manage datasets\n",
    "import numpy as np # mathematic library\n",
    "import matplotlib.pyplot as plt\n",
    "from matplotlib import pyplot\n",
    "from statsmodels.tsa.arima_model import ARIMA"
   ]
  },
  {
   "cell_type": "code",
   "execution_count": 2,
   "metadata": {},
   "outputs": [],
   "source": [
    "df_patents_region = pd.read_csv(\"patents-filed-for-renewables.csv\")\n",
    "df_patents_solar = df_patents_region['Solar PV'] + df_patents_region['Solar Thermal'] + df_patents_region['Solar PV-Thermal Hybrid']\n",
    "df_patents_region['Solar_total'] = df_patents_solar"
   ]
  },
  {
   "cell_type": "code",
   "execution_count": 3,
   "metadata": {},
   "outputs": [
    {
     "data": {
      "text/html": [
       "<div>\n",
       "<style scoped>\n",
       "    .dataframe tbody tr th:only-of-type {\n",
       "        vertical-align: middle;\n",
       "    }\n",
       "\n",
       "    .dataframe tbody tr th {\n",
       "        vertical-align: top;\n",
       "    }\n",
       "\n",
       "    .dataframe thead th {\n",
       "        text-align: right;\n",
       "    }\n",
       "</style>\n",
       "<table border=\"1\" class=\"dataframe\">\n",
       "  <thead>\n",
       "    <tr style=\"text-align: right;\">\n",
       "      <th></th>\n",
       "      <th>Entity</th>\n",
       "      <th>Code</th>\n",
       "      <th>Year</th>\n",
       "      <th>Wind</th>\n",
       "      <th>Solar PV</th>\n",
       "      <th>Solar Thermal</th>\n",
       "      <th>Solar PV-Thermal Hybrid</th>\n",
       "      <th>Geothermal</th>\n",
       "      <th>Hydropower</th>\n",
       "      <th>Marine</th>\n",
       "      <th>Other</th>\n",
       "      <th>Bioenergy</th>\n",
       "      <th>Solar_total</th>\n",
       "    </tr>\n",
       "  </thead>\n",
       "  <tbody>\n",
       "    <tr>\n",
       "      <th>0</th>\n",
       "      <td>World</td>\n",
       "      <td>OWID_WRL</td>\n",
       "      <td>2000</td>\n",
       "      <td>1885</td>\n",
       "      <td>3060</td>\n",
       "      <td>2100</td>\n",
       "      <td>660</td>\n",
       "      <td>128</td>\n",
       "      <td>918</td>\n",
       "      <td>235</td>\n",
       "      <td>35</td>\n",
       "      <td>1879</td>\n",
       "      <td>5820</td>\n",
       "    </tr>\n",
       "    <tr>\n",
       "      <th>1</th>\n",
       "      <td>World</td>\n",
       "      <td>OWID_WRL</td>\n",
       "      <td>2001</td>\n",
       "      <td>2274</td>\n",
       "      <td>3222</td>\n",
       "      <td>2221</td>\n",
       "      <td>691</td>\n",
       "      <td>188</td>\n",
       "      <td>819</td>\n",
       "      <td>263</td>\n",
       "      <td>12</td>\n",
       "      <td>1820</td>\n",
       "      <td>6134</td>\n",
       "    </tr>\n",
       "    <tr>\n",
       "      <th>2</th>\n",
       "      <td>World</td>\n",
       "      <td>OWID_WRL</td>\n",
       "      <td>2002</td>\n",
       "      <td>2936</td>\n",
       "      <td>3113</td>\n",
       "      <td>2549</td>\n",
       "      <td>614</td>\n",
       "      <td>234</td>\n",
       "      <td>984</td>\n",
       "      <td>237</td>\n",
       "      <td>29</td>\n",
       "      <td>2007</td>\n",
       "      <td>6276</td>\n",
       "    </tr>\n",
       "    <tr>\n",
       "      <th>3</th>\n",
       "      <td>World</td>\n",
       "      <td>OWID_WRL</td>\n",
       "      <td>2003</td>\n",
       "      <td>3185</td>\n",
       "      <td>3616</td>\n",
       "      <td>2416</td>\n",
       "      <td>818</td>\n",
       "      <td>242</td>\n",
       "      <td>1072</td>\n",
       "      <td>251</td>\n",
       "      <td>18</td>\n",
       "      <td>2090</td>\n",
       "      <td>6850</td>\n",
       "    </tr>\n",
       "    <tr>\n",
       "      <th>4</th>\n",
       "      <td>World</td>\n",
       "      <td>OWID_WRL</td>\n",
       "      <td>2004</td>\n",
       "      <td>3248</td>\n",
       "      <td>4024</td>\n",
       "      <td>2808</td>\n",
       "      <td>749</td>\n",
       "      <td>254</td>\n",
       "      <td>1234</td>\n",
       "      <td>514</td>\n",
       "      <td>31</td>\n",
       "      <td>2323</td>\n",
       "      <td>7581</td>\n",
       "    </tr>\n",
       "    <tr>\n",
       "      <th>5</th>\n",
       "      <td>World</td>\n",
       "      <td>OWID_WRL</td>\n",
       "      <td>2005</td>\n",
       "      <td>3685</td>\n",
       "      <td>4749</td>\n",
       "      <td>3028</td>\n",
       "      <td>872</td>\n",
       "      <td>253</td>\n",
       "      <td>1252</td>\n",
       "      <td>553</td>\n",
       "      <td>11</td>\n",
       "      <td>2844</td>\n",
       "      <td>8649</td>\n",
       "    </tr>\n",
       "    <tr>\n",
       "      <th>6</th>\n",
       "      <td>World</td>\n",
       "      <td>OWID_WRL</td>\n",
       "      <td>2006</td>\n",
       "      <td>4254</td>\n",
       "      <td>5816</td>\n",
       "      <td>4396</td>\n",
       "      <td>1182</td>\n",
       "      <td>352</td>\n",
       "      <td>1594</td>\n",
       "      <td>668</td>\n",
       "      <td>29</td>\n",
       "      <td>4081</td>\n",
       "      <td>11394</td>\n",
       "    </tr>\n",
       "    <tr>\n",
       "      <th>7</th>\n",
       "      <td>World</td>\n",
       "      <td>OWID_WRL</td>\n",
       "      <td>2007</td>\n",
       "      <td>6192</td>\n",
       "      <td>8085</td>\n",
       "      <td>5635</td>\n",
       "      <td>1435</td>\n",
       "      <td>503</td>\n",
       "      <td>2039</td>\n",
       "      <td>924</td>\n",
       "      <td>61</td>\n",
       "      <td>5898</td>\n",
       "      <td>15155</td>\n",
       "    </tr>\n",
       "    <tr>\n",
       "      <th>8</th>\n",
       "      <td>World</td>\n",
       "      <td>OWID_WRL</td>\n",
       "      <td>2008</td>\n",
       "      <td>8411</td>\n",
       "      <td>11600</td>\n",
       "      <td>8025</td>\n",
       "      <td>1943</td>\n",
       "      <td>578</td>\n",
       "      <td>2573</td>\n",
       "      <td>1064</td>\n",
       "      <td>53</td>\n",
       "      <td>7128</td>\n",
       "      <td>21568</td>\n",
       "    </tr>\n",
       "    <tr>\n",
       "      <th>9</th>\n",
       "      <td>World</td>\n",
       "      <td>OWID_WRL</td>\n",
       "      <td>2009</td>\n",
       "      <td>11180</td>\n",
       "      <td>17152</td>\n",
       "      <td>10530</td>\n",
       "      <td>2419</td>\n",
       "      <td>897</td>\n",
       "      <td>3249</td>\n",
       "      <td>1485</td>\n",
       "      <td>62</td>\n",
       "      <td>7984</td>\n",
       "      <td>30101</td>\n",
       "    </tr>\n",
       "    <tr>\n",
       "      <th>10</th>\n",
       "      <td>World</td>\n",
       "      <td>OWID_WRL</td>\n",
       "      <td>2010</td>\n",
       "      <td>12741</td>\n",
       "      <td>21844</td>\n",
       "      <td>12312</td>\n",
       "      <td>2911</td>\n",
       "      <td>726</td>\n",
       "      <td>3396</td>\n",
       "      <td>1533</td>\n",
       "      <td>74</td>\n",
       "      <td>8433</td>\n",
       "      <td>37067</td>\n",
       "    </tr>\n",
       "    <tr>\n",
       "      <th>11</th>\n",
       "      <td>World</td>\n",
       "      <td>OWID_WRL</td>\n",
       "      <td>2011</td>\n",
       "      <td>13549</td>\n",
       "      <td>24771</td>\n",
       "      <td>11769</td>\n",
       "      <td>2871</td>\n",
       "      <td>830</td>\n",
       "      <td>3848</td>\n",
       "      <td>1376</td>\n",
       "      <td>104</td>\n",
       "      <td>9021</td>\n",
       "      <td>39411</td>\n",
       "    </tr>\n",
       "    <tr>\n",
       "      <th>12</th>\n",
       "      <td>World</td>\n",
       "      <td>OWID_WRL</td>\n",
       "      <td>2012</td>\n",
       "      <td>12748</td>\n",
       "      <td>24653</td>\n",
       "      <td>11482</td>\n",
       "      <td>2944</td>\n",
       "      <td>832</td>\n",
       "      <td>3853</td>\n",
       "      <td>1402</td>\n",
       "      <td>127</td>\n",
       "      <td>8841</td>\n",
       "      <td>39079</td>\n",
       "    </tr>\n",
       "    <tr>\n",
       "      <th>13</th>\n",
       "      <td>World</td>\n",
       "      <td>OWID_WRL</td>\n",
       "      <td>2013</td>\n",
       "      <td>9820</td>\n",
       "      <td>19967</td>\n",
       "      <td>9932</td>\n",
       "      <td>2792</td>\n",
       "      <td>749</td>\n",
       "      <td>3255</td>\n",
       "      <td>1360</td>\n",
       "      <td>168</td>\n",
       "      <td>7754</td>\n",
       "      <td>32691</td>\n",
       "    </tr>\n",
       "    <tr>\n",
       "      <th>14</th>\n",
       "      <td>World</td>\n",
       "      <td>OWID_WRL</td>\n",
       "      <td>2014</td>\n",
       "      <td>8812</td>\n",
       "      <td>14655</td>\n",
       "      <td>7849</td>\n",
       "      <td>2952</td>\n",
       "      <td>661</td>\n",
       "      <td>3192</td>\n",
       "      <td>1308</td>\n",
       "      <td>206</td>\n",
       "      <td>7167</td>\n",
       "      <td>25456</td>\n",
       "    </tr>\n",
       "    <tr>\n",
       "      <th>15</th>\n",
       "      <td>World</td>\n",
       "      <td>OWID_WRL</td>\n",
       "      <td>2015</td>\n",
       "      <td>5908</td>\n",
       "      <td>9554</td>\n",
       "      <td>5971</td>\n",
       "      <td>2605</td>\n",
       "      <td>371</td>\n",
       "      <td>2324</td>\n",
       "      <td>821</td>\n",
       "      <td>308</td>\n",
       "      <td>4681</td>\n",
       "      <td>18130</td>\n",
       "    </tr>\n",
       "    <tr>\n",
       "      <th>16</th>\n",
       "      <td>World</td>\n",
       "      <td>OWID_WRL</td>\n",
       "      <td>2016</td>\n",
       "      <td>1812</td>\n",
       "      <td>3036</td>\n",
       "      <td>1880</td>\n",
       "      <td>946</td>\n",
       "      <td>165</td>\n",
       "      <td>729</td>\n",
       "      <td>270</td>\n",
       "      <td>113</td>\n",
       "      <td>1509</td>\n",
       "      <td>5862</td>\n",
       "    </tr>\n",
       "  </tbody>\n",
       "</table>\n",
       "</div>"
      ],
      "text/plain": [
       "   Entity      Code  Year   Wind  Solar PV  Solar Thermal  \\\n",
       "0   World  OWID_WRL  2000   1885      3060           2100   \n",
       "1   World  OWID_WRL  2001   2274      3222           2221   \n",
       "2   World  OWID_WRL  2002   2936      3113           2549   \n",
       "3   World  OWID_WRL  2003   3185      3616           2416   \n",
       "4   World  OWID_WRL  2004   3248      4024           2808   \n",
       "5   World  OWID_WRL  2005   3685      4749           3028   \n",
       "6   World  OWID_WRL  2006   4254      5816           4396   \n",
       "7   World  OWID_WRL  2007   6192      8085           5635   \n",
       "8   World  OWID_WRL  2008   8411     11600           8025   \n",
       "9   World  OWID_WRL  2009  11180     17152          10530   \n",
       "10  World  OWID_WRL  2010  12741     21844          12312   \n",
       "11  World  OWID_WRL  2011  13549     24771          11769   \n",
       "12  World  OWID_WRL  2012  12748     24653          11482   \n",
       "13  World  OWID_WRL  2013   9820     19967           9932   \n",
       "14  World  OWID_WRL  2014   8812     14655           7849   \n",
       "15  World  OWID_WRL  2015   5908      9554           5971   \n",
       "16  World  OWID_WRL  2016   1812      3036           1880   \n",
       "\n",
       "    Solar PV-Thermal Hybrid  Geothermal  Hydropower  Marine  Other  Bioenergy  \\\n",
       "0                       660         128         918     235     35       1879   \n",
       "1                       691         188         819     263     12       1820   \n",
       "2                       614         234         984     237     29       2007   \n",
       "3                       818         242        1072     251     18       2090   \n",
       "4                       749         254        1234     514     31       2323   \n",
       "5                       872         253        1252     553     11       2844   \n",
       "6                      1182         352        1594     668     29       4081   \n",
       "7                      1435         503        2039     924     61       5898   \n",
       "8                      1943         578        2573    1064     53       7128   \n",
       "9                      2419         897        3249    1485     62       7984   \n",
       "10                     2911         726        3396    1533     74       8433   \n",
       "11                     2871         830        3848    1376    104       9021   \n",
       "12                     2944         832        3853    1402    127       8841   \n",
       "13                     2792         749        3255    1360    168       7754   \n",
       "14                     2952         661        3192    1308    206       7167   \n",
       "15                     2605         371        2324     821    308       4681   \n",
       "16                      946         165         729     270    113       1509   \n",
       "\n",
       "    Solar_total  \n",
       "0          5820  \n",
       "1          6134  \n",
       "2          6276  \n",
       "3          6850  \n",
       "4          7581  \n",
       "5          8649  \n",
       "6         11394  \n",
       "7         15155  \n",
       "8         21568  \n",
       "9         30101  \n",
       "10        37067  \n",
       "11        39411  \n",
       "12        39079  \n",
       "13        32691  \n",
       "14        25456  \n",
       "15        18130  \n",
       "16         5862  "
      ]
     },
     "execution_count": 3,
     "metadata": {},
     "output_type": "execute_result"
    }
   ],
   "source": [
    "df_patents_region"
   ]
  },
  {
   "cell_type": "code",
   "execution_count": 4,
   "metadata": {},
   "outputs": [],
   "source": [
    "y1 = list(df_patents_region['Wind'])\n",
    "x1 = list(df_patents_region['Year'])"
   ]
  },
  {
   "cell_type": "code",
   "execution_count": 5,
   "metadata": {},
   "outputs": [
    {
     "data": {
      "text/plain": [
       "[<matplotlib.lines.Line2D at 0x24249605fd0>]"
      ]
     },
     "execution_count": 5,
     "metadata": {},
     "output_type": "execute_result"
    },
    {
     "data": {
      "image/png": "[encoded data removed]",
      "text/plain": [
       "<Figure size 432x288 with 1 Axes>"
      ]
     },
     "metadata": {
      "needs_background": "light"
     },
     "output_type": "display_data"
    }
   ],
   "source": [
    "pyplot.plot(x1, y1)  "
   ]
  },
  {
   "cell_type": "code",
   "execution_count": 6,
   "metadata": {},
   "outputs": [],
   "source": [
    "z1 = pd.DataFrame(x1, columns = ['Year'])"
   ]
  },
  {
   "cell_type": "code",
   "execution_count": 7,
   "metadata": {},
   "outputs": [],
   "source": [
    "z1['pat_wind'] = y1"
   ]
  },
  {
   "cell_type": "code",
   "execution_count": 8,
   "metadata": {},
   "outputs": [],
   "source": [
    "z1 = z1.set_index('Year')"
   ]
  },
  {
   "cell_type": "code",
   "execution_count": 9,
   "metadata": {},
   "outputs": [
    {
     "name": "stderr",
     "output_type": "stream",
     "text": [
      "C:\\Users\\pooji\\Anaconda3\\lib\\site-packages\\scipy\\signal\\signaltools.py:1341: FutureWarning: Using a non-tuple sequence for multidimensional indexing is deprecated; use `arr[tuple(seq)]` instead of `arr[seq]`. In the future this will be interpreted as an array index, `arr[np.array(seq)]`, which will result either in an error or a different result.\n",
      "  out_full[ind] += zi\n",
      "C:\\Users\\pooji\\Anaconda3\\lib\\site-packages\\scipy\\signal\\signaltools.py:1344: FutureWarning: Using a non-tuple sequence for multidimensional indexing is deprecated; use `arr[tuple(seq)]` instead of `arr[seq]`. In the future this will be interpreted as an array index, `arr[np.array(seq)]`, which will result either in an error or a different result.\n",
      "  out = out_full[ind]\n",
      "C:\\Users\\pooji\\Anaconda3\\lib\\site-packages\\scipy\\signal\\signaltools.py:1350: FutureWarning: Using a non-tuple sequence for multidimensional indexing is deprecated; use `arr[tuple(seq)]` instead of `arr[seq]`. In the future this will be interpreted as an array index, `arr[np.array(seq)]`, which will result either in an error or a different result.\n",
      "  zf = out_full[ind]\n"
     ]
    },
    {
     "data": {
      "image/png": "[encoded data removed]",
      "text/plain": [
       "<Figure size 432x288 with 1 Axes>"
      ]
     },
     "metadata": {
      "needs_background": "light"
     },
     "output_type": "display_data"
    }
   ],
   "source": [
    "X = z1.values\n",
    "X = [int(x) for x in X]\n",
    "history = [int(x) for x in X]\n",
    "predictions = list(history)\n",
    "\n",
    "for t in range(17,31):\n",
    "    model = ARIMA(history, order=(1,1,0))\n",
    "    model_fit = model.fit()\n",
    "    output = model_fit.forecast()\n",
    "    yhat = int(output[0])\n",
    "    if yhat < 0:\n",
    "        yhat = 0\n",
    "    predictions.append(yhat)\n",
    "    history.append(yhat)\n",
    "# plot\n",
    "pyplot.plot(X)\n",
    "pyplot.plot(predictions, color='red', alpha=0.5)\n",
    "pyplot.show()"
   ]
  },
  {
   "cell_type": "code",
   "execution_count": 10,
   "metadata": {},
   "outputs": [
    {
     "name": "stdout",
     "output_type": "stream",
     "text": [
      "                             ARIMA Model Results                              \n",
      "==============================================================================\n",
      "Dep. Variable:                    D.y   No. Observations:                   29\n",
      "Model:                 ARIMA(1, 1, 0)   Log Likelihood                -240.017\n",
      "Method:                       css-mle   S.D. of innovations            938.486\n",
      "Date:                Fri, 22 Nov 2019   AIC                            486.034\n",
      "Time:                        12:15:47   BIC                            490.136\n",
      "Sample:                             1   HQIC                           487.319\n",
      "                                                                              \n",
      "==============================================================================\n",
      "                 coef    std err          z      P>|z|      [0.025      0.975]\n",
      "------------------------------------------------------------------------------\n",
      "const        -23.7597    597.322     -0.040      0.969   -1194.488    1146.969\n",
      "ar.L1.D.y      0.7322      0.116      6.297      0.000       0.504       0.960\n",
      "                                    Roots                                    \n",
      "=============================================================================\n",
      "                  Real          Imaginary           Modulus         Frequency\n",
      "-----------------------------------------------------------------------------\n",
      "AR.1            1.3657           +0.0000j            1.3657            0.0000\n",
      "-----------------------------------------------------------------------------\n"
     ]
    }
   ],
   "source": [
    "print(model_fit.summary())"
   ]
  },
  {
   "cell_type": "code",
   "execution_count": 11,
   "metadata": {},
   "outputs": [],
   "source": [
    "df_patent = pd.DataFrame(list(range(2000,2031)), columns = ['Year'])"
   ]
  },
  {
   "cell_type": "code",
   "execution_count": 12,
   "metadata": {},
   "outputs": [],
   "source": [
    "df_patent['patent_wind'] = predictions"
   ]
  },
  {
   "cell_type": "code",
   "execution_count": 13,
   "metadata": {},
   "outputs": [],
   "source": [
    "y2 = list(df_patents_region['Solar_total'])\n",
    "x2 = list(df_patents_region['Year'])"
   ]
  },
  {
   "cell_type": "code",
   "execution_count": 14,
   "metadata": {},
   "outputs": [
    {
     "data": {
      "text/plain": [
       "[<matplotlib.lines.Line2D at 0x2424a79c320>]"
      ]
     },
     "execution_count": 14,
     "metadata": {},
     "output_type": "execute_result"
    },
    {
     "data": {
      "image/png": "[encoded data removed]",
      "text/plain": [
       "<Figure size 432x288 with 1 Axes>"
      ]
     },
     "metadata": {
      "needs_background": "light"
     },
     "output_type": "display_data"
    }
   ],
   "source": [
    "pyplot.plot(x2, y2)  "
   ]
  },
  {
   "cell_type": "code",
   "execution_count": 15,
   "metadata": {},
   "outputs": [],
   "source": [
    "z2 = pd.DataFrame(x2, columns = ['Year'])"
   ]
  },
  {
   "cell_type": "code",
   "execution_count": 16,
   "metadata": {},
   "outputs": [],
   "source": [
    "z2['pat_solar'] = y2"
   ]
  },
  {
   "cell_type": "code",
   "execution_count": 17,
   "metadata": {},
   "outputs": [],
   "source": [
    "z2 = z2.set_index('Year')"
   ]
  },
  {
   "cell_type": "code",
   "execution_count": 18,
   "metadata": {},
   "outputs": [
    {
     "data": {
      "image/png": "[encoded data removed]",
      "text/plain": [
       "<Figure size 432x288 with 1 Axes>"
      ]
     },
     "metadata": {
      "needs_background": "light"
     },
     "output_type": "display_data"
    }
   ],
   "source": [
    "X = z2.values\n",
    "X = [int(x) for x in X]\n",
    "history = [int(x) for x in X]\n",
    "predictions = list(history)\n",
    "\n",
    "for t in range(17,31):\n",
    "    model = ARIMA(history, order=(1,1,0))\n",
    "    model_fit = model.fit()\n",
    "    output = model_fit.forecast()\n",
    "    yhat = int(output[0])\n",
    "    if yhat < 0:\n",
    "        yhat = 0\n",
    "    predictions.append(yhat)\n",
    "    history.append(yhat)\n",
    "# plot\n",
    "pyplot.plot(X)\n",
    "pyplot.plot(predictions, color='red', alpha=0.5)\n",
    "pyplot.show()"
   ]
  },
  {
   "cell_type": "code",
   "execution_count": 19,
   "metadata": {},
   "outputs": [],
   "source": [
    "df_patent['patent_solar'] = predictions"
   ]
  },
  {
   "cell_type": "code",
   "execution_count": null,
   "metadata": {},
   "outputs": [],
   "source": []
  },
  {
   "cell_type": "code",
   "execution_count": null,
   "metadata": {},
   "outputs": [],
   "source": []
  },
  {
   "cell_type": "code",
   "execution_count": null,
   "metadata": {},
   "outputs": [],
   "source": []
  },
  {
   "cell_type": "code",
   "execution_count": 20,
   "metadata": {},
   "outputs": [
    {
     "data": {
      "text/html": [
       "<div>\n",
       "<style scoped>\n",
       "    .dataframe tbody tr th:only-of-type {\n",
       "        vertical-align: middle;\n",
       "    }\n",
       "\n",
       "    .dataframe tbody tr th {\n",
       "        vertical-align: top;\n",
       "    }\n",
       "\n",
       "    .dataframe thead th {\n",
       "        text-align: right;\n",
       "    }\n",
       "</style>\n",
       "<table border=\"1\" class=\"dataframe\">\n",
       "  <thead>\n",
       "    <tr style=\"text-align: right;\">\n",
       "      <th></th>\n",
       "      <th>Year</th>\n",
       "      <th>patent_wind</th>\n",
       "      <th>patent_solar</th>\n",
       "    </tr>\n",
       "  </thead>\n",
       "  <tbody>\n",
       "    <tr>\n",
       "      <th>0</th>\n",
       "      <td>2000</td>\n",
       "      <td>1885</td>\n",
       "      <td>5820</td>\n",
       "    </tr>\n",
       "    <tr>\n",
       "      <th>1</th>\n",
       "      <td>2001</td>\n",
       "      <td>2274</td>\n",
       "      <td>6134</td>\n",
       "    </tr>\n",
       "    <tr>\n",
       "      <th>2</th>\n",
       "      <td>2002</td>\n",
       "      <td>2936</td>\n",
       "      <td>6276</td>\n",
       "    </tr>\n",
       "    <tr>\n",
       "      <th>3</th>\n",
       "      <td>2003</td>\n",
       "      <td>3185</td>\n",
       "      <td>6850</td>\n",
       "    </tr>\n",
       "    <tr>\n",
       "      <th>4</th>\n",
       "      <td>2004</td>\n",
       "      <td>3248</td>\n",
       "      <td>7581</td>\n",
       "    </tr>\n",
       "  </tbody>\n",
       "</table>\n",
       "</div>"
      ],
      "text/plain": [
       "   Year  patent_wind  patent_solar\n",
       "0  2000         1885          5820\n",
       "1  2001         2274          6134\n",
       "2  2002         2936          6276\n",
       "3  2003         3185          6850\n",
       "4  2004         3248          7581"
      ]
     },
     "execution_count": 20,
     "metadata": {},
     "output_type": "execute_result"
    }
   ],
   "source": [
    "df_patent.head()"
   ]
  },
  {
   "cell_type": "code",
   "execution_count": null,
   "metadata": {},
   "outputs": [],
   "source": []
  }
 ],
 "metadata": {
  "kernelspec": {
   "display_name": "Python 3",
   "language": "python",
   "name": "python3"
  },
  "language_info": {
   "codemirror_mode": {
    "name": "ipython",
    "version": 3
   },
   "file_extension": ".py",
   "mimetype": "text/x-python",
   "name": "python",
   "nbconvert_exporter": "python",
   "pygments_lexer": "ipython3",
   "version": "3.7.1"
  }
 },
 "nbformat": 4,
 "nbformat_minor": 2
}
