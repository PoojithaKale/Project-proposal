{
 "cells": [
  {
   "cell_type": "code",
   "execution_count": null,
   "metadata": {},
   "outputs": [],
   "source": [
    "y = list(Investment_forcast_India['investment_solar'])\n",
    "x = list(Investment_forcast_India['Year'])"
   ]
  },
  {
   "cell_type": "code",
   "execution_count": null,
   "metadata": {},
   "outputs": [],
   "source": [
    "pyplot.plot(x, y)  "
   ]
  },
  {
   "cell_type": "code",
   "execution_count": null,
   "metadata": {},
   "outputs": [],
   "source": [
    "z1 = pd.DataFrame(x, columns = ['Year'])"
   ]
  },
  {
   "cell_type": "code",
   "execution_count": null,
   "metadata": {},
   "outputs": [],
   "source": [
    "z1['investment_solar'] = y"
   ]
  },
  {
   "cell_type": "code",
   "execution_count": null,
   "metadata": {},
   "outputs": [],
   "source": [
    "z1 = z1.set_index('Year')"
   ]
  },
  {
   "cell_type": "code",
   "execution_count": null,
   "metadata": {},
   "outputs": [],
   "source": [
    "from statsmodels.tsa.arima_model import ARIMA\n",
    "# 0,1,1 ARIMA Model\n",
    "model = ARIMA(z1, order=(2,1,1))\n",
    "model_fit = model.fit(disp=0)\n",
    "print(model_fit.summary())"
   ]
  },
  {
   "cell_type": "code",
   "execution_count": null,
   "metadata": {},
   "outputs": [],
   "source": [
    "X = z1.values\n",
    "X = [int(x) for x in X]\n",
    "history = [int(x) for x in X]\n",
    "predictions = list(history)\n",
    "\n",
    "for t in range(12,27):\n",
    "    model = ARIMA(history, order=(3,2,0))\n",
    "    model_fit = model.fit()\n",
    "    output = model_fit.forecast()\n",
    "    yhat = int(output[0])\n",
    "    predictions.append(yhat)\n",
    "    history.append(yhat)\n",
    "# plot\n",
    "pyplot.plot(X)\n",
    "pyplot.plot(predictions, color='red', alpha=0.5)\n",
    "pyplot.show()"
   ]
  },
  {
   "cell_type": "code",
   "execution_count": null,
   "metadata": {},
   "outputs": [],
   "source": [
    "df_investent_future['investment_val_predictions_solar'] = predictions"
   ]
  },
  {
   "cell_type": "code",
   "execution_count": null,
   "metadata": {},
   "outputs": [],
   "source": []
  },
  {
   "cell_type": "code",
   "execution_count": null,
   "metadata": {},
   "outputs": [],
   "source": [
    "y1 = list(df_patents_region['Wind'])\n",
    "x1 = list(df_patents_region['Year'])"
   ]
  },
  {
   "cell_type": "code",
   "execution_count": null,
   "metadata": {},
   "outputs": [],
   "source": [
    "pyplot.plot(x1, y1)  "
   ]
  },
  {
   "cell_type": "code",
   "execution_count": null,
   "metadata": {},
   "outputs": [],
   "source": [
    "z1 = pd.DataFrame(x1, columns = ['Year'])"
   ]
  },
  {
   "cell_type": "code",
   "execution_count": null,
   "metadata": {},
   "outputs": [],
   "source": [
    "z1['pat_wind'] = y1"
   ]
  },
  {
   "cell_type": "code",
   "execution_count": null,
   "metadata": {},
   "outputs": [],
   "source": [
    "z1 = z1.set_index('Year')"
   ]
  },
  {
   "cell_type": "code",
   "execution_count": null,
   "metadata": {},
   "outputs": [],
   "source": [
    "X = z1.values\n",
    "X = [int(x) for x in X]\n",
    "history = [int(x) for x in X]\n",
    "predictions = list(history)\n",
    "\n",
    "for t in range(17,31):\n",
    "    model = ARIMA(history, order=(1,1,0))\n",
    "    model_fit = model.fit()\n",
    "    output = model_fit.forecast()\n",
    "    yhat = int(output[0])\n",
    "    if yhat < 0:\n",
    "        yhat = 0\n",
    "    predictions.append(yhat)\n",
    "    history.append(yhat)\n",
    "# plot\n",
    "pyplot.plot(X)\n",
    "pyplot.plot(predictions, color='red', alpha=0.5)\n",
    "pyplot.show()"
   ]
  },
  {
   "cell_type": "code",
   "execution_count": null,
   "metadata": {},
   "outputs": [],
   "source": []
  },
  {
   "cell_type": "code",
   "execution_count": null,
   "metadata": {},
   "outputs": [],
   "source": [
    "df_ego = pd.read_excel(excel_file,'Geo Biomass Other - TWh') # ego --- energy generation other"
   ]
  },
  {
   "cell_type": "code",
   "execution_count": null,
   "metadata": {},
   "outputs": [],
   "source": [
    "df_ego_NA = df_ego[3:6]\n",
    "df_ego_SCA = df_ego[8:19]\n",
    "df_ego_EU = df_ego[21:55]\n",
    "df_ego_CIS = df_ego[57:65]\n",
    "df_ego_ME = df_ego[67:76]\n",
    "df_ego_AF = df_ego[78:87]\n",
    "df_ego_A = df_ego[89:107]\n",
    "frames = [df_ego_NA, df_ego_SCA, df_ego_EU, df_ego_CIS, df_ego_ME, df_ego_AF, df_ego_A]\n",
    "df_ego1 = pd.concat(frames)"
   ]
  },
  {
   "cell_type": "code",
   "execution_count": null,
   "metadata": {},
   "outputs": [],
   "source": [
    "df_ego1.rename(columns={'Renewables: Generation- Geothermal, Biomass and Other*':'Geo, biomass and other Energy',\n",
    "                        'Unnamed: 1':'1965',\n",
    "                        'Unnamed: 2':'1966',\n",
    "                        'Unnamed: 3':'1967',\n",
    "                        'Unnamed: 4':'1968',\n",
    "                        'Unnamed: 5':'1969',\n",
    "                        'Unnamed: 6':'1970',\n",
    "                        'Unnamed: 7':'1971',\n",
    "                        'Unnamed: 8':'1972',\n",
    "                        'Contents':'1973',\n",
    "                        'Unnamed: 10':'1974',\n",
    "                        'Unnamed: 11':'1975',\n",
    "                        'Unnamed: 12':'1976',\n",
    "                        'Unnamed: 13':'1977',\n",
    "                        'Unnamed: 14':'1978',\n",
    "                        'Unnamed: 15':'1979',\n",
    "                        'Unnamed: 16':'1980',\n",
    "                        'Unnamed: 17':'1981',\n",
    "                        'Unnamed: 18':'1982',\n",
    "                        'Unnamed: 19':'1983',\n",
    "                        'Unnamed: 20':'1984',\n",
    "                        'Unnamed: 21':'1985',\n",
    "                        'Unnamed: 22':'1986',\n",
    "                        'Unnamed: 23':'1987',\n",
    "                        'Unnamed: 24':'1988',\n",
    "                        'Unnamed: 25':'1989',\n",
    "                        'Unnamed: 26':'1990',\n",
    "                        'Unnamed: 27':'1991',\n",
    "                        'Unnamed: 28':'1992',\n",
    "                        'Unnamed: 29':'1993',\n",
    "                        'Unnamed: 30':'1994',\n",
    "                        'Unnamed: 31':'1995',\n",
    "                        'Unnamed: 32':'1996',\n",
    "                        'Unnamed: 33':'1997',\n",
    "                        'Unnamed: 34':'1998',\n",
    "                        'Unnamed: 35':'1999',\n",
    "                        'Unnamed: 36':'2000',\n",
    "                        'Unnamed: 37':'2001',\n",
    "                        'Unnamed: 38':'2002',\n",
    "                        'Unnamed: 39':'2003',\n",
    "                        'Unnamed: 40':'2004',\n",
    "                        'Unnamed: 41':'2005',\n",
    "                        'Unnamed: 42':'2006',\n",
    "                        'Unnamed: 43':'2007',\n",
    "                        'Unnamed: 44':'2008',\n",
    "                        'Unnamed: 45':'2009',\n",
    "                        'Unnamed: 46':'2010',\n",
    "                        'Unnamed: 47':'2011',\n",
    "                        'Unnamed: 48':'2012',\n",
    "                        'Unnamed: 49':'2013',\n",
    "                        'Unnamed: 50':'2014',\n",
    "                        'Unnamed: 51':'2015',\n",
    "                        'Unnamed: 52':'2016',\n",
    "                        'Unnamed: 53':'2017',\n",
    "                        'Unnamed: 54':'2018'},\n",
    "                 inplace=True)\n",
    " "
   ]
  },
  {
   "cell_type": "code",
   "execution_count": null,
   "metadata": {},
   "outputs": [],
   "source": [
    "df_ego1 = df_ego1.set_index('Geo, biomass and other Energy')\n",
    "df_ego1.to_excel('Hydro_generation_per_country.xlsx')"
   ]
  }
 ],
 "metadata": {
  "kernelspec": {
   "display_name": "Python 3",
   "language": "python",
   "name": "python3"
  },
  "language_info": {
   "codemirror_mode": {
    "name": "ipython",
    "version": 3
   },
   "file_extension": ".py",
   "mimetype": "text/x-python",
   "name": "python",
   "nbconvert_exporter": "python",
   "pygments_lexer": "ipython3",
   "version": "3.7.1"
  }
 },
 "nbformat": 4,
 "nbformat_minor": 2
}
